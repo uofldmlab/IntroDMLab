{
  "nbformat": 4,
  "nbformat_minor": 0,
  "metadata": {
    "colab": {
      "name": "demo_lab_02.ipynb",
      "provenance": [],
      "authorship_tag": "ABX9TyPc9Ua/TLz02HZB9q/f/9Xb",
      "include_colab_link": true
    },
    "kernelspec": {
      "name": "python3",
      "display_name": "Python 3"
    },
    "language_info": {
      "name": "python"
    }
  },
  "cells": [
    {
      "cell_type": "markdown",
      "metadata": {
        "id": "view-in-github",
        "colab_type": "text"
      },
      "source": [
        "<a href=\"https://colab.research.google.com/github/uofldmlab/IntroDMLab/blob/main/demo_lab_02.ipynb\" target=\"_parent\"><img src=\"https://colab.research.google.com/assets/colab-badge.svg\" alt=\"Open In Colab\"/></a>"
      ]
    },
    {
      "cell_type": "markdown",
      "metadata": {
        "id": "J1ditK15b3Lw"
      },
      "source": [
        "# Import Python libraries"
      ]
    },
    {
      "cell_type": "code",
      "metadata": {
        "id": "GRn0VPvi-uNP"
      },
      "source": [
        "import pandas as pd #pandas for dataframes\n",
        "from sklearn.model_selection import train_test_split # sklearn.model_selection for splitting the dataframe\n",
        "from sklearn.linear_model import LinearRegression #sklearn.linear_model for the Linear Regression model \n",
        "import sklearn.metrics as metrics #to measure model performance"
      ],
      "execution_count": 30,
      "outputs": []
    },
    {
      "cell_type": "markdown",
      "metadata": {
        "id": "szqQy7nFcBLl"
      },
      "source": [
        "# Open text file from URL and store into Pandas dataframe"
      ]
    },
    {
      "cell_type": "code",
      "metadata": {
        "id": "c0qA3Ovm-wp8"
      },
      "source": [
        "df = pd.read_csv(\"https://raw.githubusercontent.com/uofldmlab/IntroDMLab/main/processed.cleveland2.csv\")"
      ],
      "execution_count": 31,
      "outputs": []
    },
    {
      "cell_type": "markdown",
      "metadata": {
        "id": "3WRRhm9vg_aP"
      },
      "source": [
        "# Put age and resting_blood_pressure into X and Y variable respectively "
      ]
    },
    {
      "cell_type": "code",
      "metadata": {
        "id": "glTlupOOBVaJ"
      },
      "source": [
        "X = df[['age']]\n",
        "Y = df['resting_blood_pressure']"
      ],
      "execution_count": 32,
      "outputs": []
    },
    {
      "cell_type": "markdown",
      "metadata": {
        "id": "axtfaFRXhWAy"
      },
      "source": [
        "#Split dataframe into 80% training/20% test dataframes using train_test_split() function"
      ]
    },
    {
      "cell_type": "code",
      "metadata": {
        "id": "NWWbu7Tw-3pt"
      },
      "source": [
        "X_train, X_test, y_train, y_test = train_test_split(X,Y,test_size=.80, random_state=100)"
      ],
      "execution_count": 33,
      "outputs": []
    },
    {
      "cell_type": "markdown",
      "metadata": {
        "id": "bxa55XZ7i72d"
      },
      "source": [
        "#Train Linear Regression model"
      ]
    },
    {
      "cell_type": "code",
      "metadata": {
        "id": "KZGhkEBb_PDC"
      },
      "source": [
        "model = LinearRegression().fit(X_train, y_train)"
      ],
      "execution_count": 26,
      "outputs": []
    },
    {
      "cell_type": "markdown",
      "metadata": {
        "id": "ZiTW-UYljoV4"
      },
      "source": [
        "#Make predictions on resting_blood_pressure in the test dataframe based on an input of age"
      ]
    },
    {
      "cell_type": "code",
      "metadata": {
        "id": "hhpvuM1a_YQn"
      },
      "source": [
        "#make predictions\n",
        "y_predicted = model.predict(X_test)"
      ],
      "execution_count": 34,
      "outputs": []
    },
    {
      "cell_type": "markdown",
      "metadata": {
        "id": "YiqPCrTPjC3s"
      },
      "source": [
        "# Calculate MAE, MSE, and R^2 by comparing the predicting values against the actual values of the test set"
      ]
    },
    {
      "cell_type": "code",
      "metadata": {
        "id": "yZco_WQe_ZvB"
      },
      "source": [
        "# model evaluation for testing set\n",
        "mae = metrics.mean_absolute_error(y_test, y_predicted)\n",
        "mse = metrics.mean_squared_error(y_test, y_predicted)\n",
        "r2 = metrics.r2_score(y_test, y_predicted)"
      ],
      "execution_count": 35,
      "outputs": []
    },
    {
      "cell_type": "markdown",
      "metadata": {
        "id": "Xf-Re2rwjELJ"
      },
      "source": [
        "# Display MAE, MSE, and R^2 "
      ]
    },
    {
      "cell_type": "code",
      "metadata": {
        "colab": {
          "base_uri": "https://localhost:8080/"
        },
        "id": "9zM-y3gi_b6V",
        "outputId": "b4d9e2aa-b7d9-4494-93df-02c85ba21303"
      },
      "source": [
        "print('MAE is {}'.format(mae))\n",
        "print('MSE is {}'.format(mse))\n",
        "print('R2 score is {}'.format(r2))"
      ],
      "execution_count": 36,
      "outputs": [
        {
          "output_type": "stream",
          "name": "stdout",
          "text": [
            "MAE is 13.217820277787725\n",
            "MSE is 293.1437695088338\n",
            "R2 score is 0.07510479522104563\n"
          ]
        }
      ]
    },
    {
      "cell_type": "code",
      "metadata": {
        "id": "k-IdRxEW_3oE"
      },
      "source": [
        ""
      ],
      "execution_count": null,
      "outputs": []
    }
  ]
}