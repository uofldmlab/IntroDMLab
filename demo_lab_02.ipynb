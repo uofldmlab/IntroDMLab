{
  "nbformat": 4,
  "nbformat_minor": 0,
  "metadata": {
    "colab": {
      "name": "demo_lab_02.ipynb",
      "provenance": [],
      "authorship_tag": "ABX9TyOoezdA+TSKL2Zn+oSUvjKB",
      "include_colab_link": true
    },
    "kernelspec": {
      "name": "python3",
      "display_name": "Python 3"
    },
    "language_info": {
      "name": "python"
    }
  },
  "cells": [
    {
      "cell_type": "markdown",
      "metadata": {
        "id": "view-in-github",
        "colab_type": "text"
      },
      "source": [
        "<a href=\"https://colab.research.google.com/github/uofldmlab/IntroDMLab/blob/main/demo_lab_02.ipynb\" target=\"_parent\"><img src=\"https://colab.research.google.com/assets/colab-badge.svg\" alt=\"Open In Colab\"/></a>"
      ]
    },
    {
      "cell_type": "markdown",
      "metadata": {
        "id": "J1ditK15b3Lw"
      },
      "source": [
        "# Import Python Libraries\n",
        "\n",
        "Importing Python libraries extend data-type and function capabilites that are outside the core Python language. The Pandas library is a Python library that is is widely used to open, view, manipulate, and analyze data. The Sklearn library is used to load the functions for spliting the dataframe, the linear regression model, and the functions to evaluate model performance.\n",
        "\n",
        "Click the Google Colab image at the top of the page to launch the lab in Google Colab: ![screenshot-2021-09-08-9-15-39- (1).png](data:image/png;base64,iVBORw0KGgoAAAANSUhEUgAAAE8AAAAOCAYAAABuMEFPAAAABGdBTUEAALGPC/xhBQAAACBjSFJNAAB6JgAAgIQAAPoAAACA6AAAdTAAAOpgAAA6mAAAF3CculE8AAAABmJLR0QA/wD/AP+gvaeTAAAAB3RJTUUH5QkIFRMgApVqzgAAB4BJREFUWMPdl99vHNUVxz/3zg/P7K53/Su2499OA0loSJsfgAhQUFUkKqoiVQJVRX3hESQq9aX/QR/7VKl9aaXy1FaVCm4rWgpCRCJUIiQtATt2ftler514vevd9Xp/zM7c04cZrxPoC/BSONKV5o7mnnPP937Pud9Ry8vLMjc3Rz6f54uasmyWRh8h746hRL6wv/9H0woem8nx00cnsOfm5rhw4QLyhZMV0A7LVo2bPX0ovprgASxvNxlOO9irq6tEUYRS6g4Y4metBJE7YBDQOp4Zo4iX3AmS7I8vCfMEUJ9xTatjWCjuYhtj7mKdAEOpOqcO5hnPVtlpe1xYn6TcTHFytMBsfwkRxXxxhP/cHieIrP3gRjDJ0BhEYn+upRGETiQo9dk3+7lASWI7lkIrRTs0KEB9IrhjacJIMF3KxOtsHc9CI5/arwiICLaIYIxBKYWgGHNrPH/sA45P3sIIgMK1OvR5Tc6MraGUoBAeOrjMaxeP8+atewix4pDKIBIPI4JjKZ48PMDxQQeD4t21Bu/lq0RGunzVChQKI9JlgVb785jt6q4Ezk5muL0bslRqdrNVKl63Z5ZWPDaT4/SIh6WE69WIvy6WaXQiSOL4jsUP7z/A60tlNnbadwH0rel+BHjzWhlbq7t8m6SybBHpMs9REd/2l5ioVHinOcul0jhpJ2AqV+HM2BrXywO8deMwnh3yLf8Gj3Gda84Ai8EBdOJQEuaJGJ44NMDZYcXvzl+ht8fi+bNHKDUCGp2I4YzLoO/w4a0667U2M/0+R4Z8NuoBC5sNZgd8+n2HAd/mYmGHrd0gOWChtbtDpwUT2R6GMy7DGYcrmw1WtpsopYhEeHAix1NTLq+cX6QVGmYGe3GUzfHhNBO5HhaKDYr1NrN9Lp4FR4dSfG3QZ2u3w8X1GgdSFuM5D1tDvtJmaWu3W+B7mHXBMwIDdpNDTpnb2xn+XPo6m500jhXx0kPrRAJzV45yoTCJUgK9wjPZeWbdEldagwgCSmLGiKBEOHUwzTsrW1xupFAN4VSxwYnRNDN9Hl6nRqVe58zJYf40X+K5I70sb2zyxJFhXrU1zxwdoFouoWlz74kD/PK9tfhQgG/OjDK/2eDEwQzTXof8VpVHT43y83NrNIIIETgznuF8vsLFHQ/LsljIBzw0k+X7h3wW14q8cGKMVy6XCU2832HdYFyafPfYCL6jMEa4J2Oo3K7w1MlxfvGvkLVqC5WUtQhoYwzdvicRSglGFKGJEcYIljJ7LQ2TlGTbaEChxSTgC0YMYvZL11LQVi4ohShNRznYCGEU8epihV9f2sa34PHZPiazNrZtU6/v4kmHZhDyh/kKv79SY8CzsBVxDGNwLYWlFZiI169W+O3lKkpB2lFJLgZbCYFyERWna7TDybEM7xfq/ObjHcqNgHuHUkTG4GiYGsziuS4SRUz0ukTG8PbNKr/6d4VbtTaz/T1EUZJrgpfeY56IoRq6rLazjOTqPHV4iSNDm9w/skFxN4Uy8Ghmhft6bnPKL3A2nactFstBrss2MQmIRggjw0KhxMNTWYbSDtP9HkeHPBbWt9FaM5DLcXhsiEiEwlaVzXqHt25U+eNHRZaKdZRlYVwfsb0YfJHkYPa6pSAojOMjjo8o6474ho8LZR6eyjKe9ejzHE6Mpgk7HQ70Zxnqy9Kb8qk3YyaNZFxOT2R5baHE5a2g249TqTRD/X2k/R4q9RZCQpBPlq0CGsbijfosY0dqfG9yie+EN9DK8M9rh3j3w0mOB1scOrAd9zfgXH2KxWY/GJOU7T7rAP6xuMWQ1eYnpwdQCOfnb3Jxvc3Txw/y9IxHqS787dJNPigGZCXDj06O0exE/OVqjasbZRqtAKXg2kaZKIq6N+hKsUqpFrCqQso7AWEYcXW9RLvT6YL79rUyI3abl04OEBoobO/y1kKBH9w3yMunByhs3OJSvs50xmKlWOV6n+HHD0xjE/LOWo0gMpwazPLy6X6u5zdYuF1HiUVcjAlmL774oqyvr3d1ngCTuRqPzKwxlatRa7ucuznFeqmXB9IbHPK2iUSz0BzkUmOUhrH3b0LL5qPxJ7nZM4VKpIrVadBndYgEKuKhXY+fPT7NuflVLqxu07ZTYDmoTpM0ASGatuXjSEhouQDYUUDH9rq3nR21EWWhJEKURaRt3LBJx/KSMo17kuo06dcBWkElcujYHn7UIKMjKsYhtH16ohaBdnGjFr06pB4qwiSWb5r0aKgYl9D2uzLHCDz3jYP7UkVr3d3cynYv+coxbB1hRBOaWCq8UZnGVpMIEIpOdNOepIiZt9cT96R16KQoioCK5YQxhr9/uEK+LjTcHFrFolocn5r4XeHdFqurvyPdc5foDlQMKsrqCq+W9vZF2F5hOz5bEr9XTtz7mlaaBqDs+JuW9kBBy0rRBJSruj4Cy4nX2kmbSFyb5D6wp6amKBQKRFF0l86JgPiV6TISILjji0/9QyiTiGQDSen+L3t/IwCtQWkivnzWY2mODaexn332WYwxrKysxPmrz6n/RcCyqQ9lsd3UV/bfVgGPHx7khQcn+S+HQzJ1+MgLfAAAACV0RVh0ZGF0ZTpjcmVhdGUAMjAyMS0wOS0wOFQyMToxOTozMi0wNDowMPesiwIAAAAldEVYdGRhdGU6bW9kaWZ5ADIwMjEtMDktMDhUMjE6MTk6MzItMDQ6MDCG8TO+AAAAAElFTkSuQmCC) \n",
        "\n",
        "The following link provides a brief tutorial on how to use Google Colab: https://www.youtube.com/watch?v=inN8seMm7UI&ab_channel=TensorFlow"
      ]
    },
    {
      "cell_type": "code",
      "metadata": {
        "id": "GRn0VPvi-uNP"
      },
      "source": [
        "import pandas as pd #pandas for dataframes\n",
        "from sklearn.model_selection import train_test_split # sklearn.model_selection for splitting the dataframe\n",
        "from sklearn.linear_model import LinearRegression #sklearn.linear_model for the Linear Regression model \n",
        "import sklearn.metrics as metrics #to measure model performance"
      ],
      "execution_count": 12,
      "outputs": []
    },
    {
      "cell_type": "markdown",
      "metadata": {
        "id": "szqQy7nFcBLl"
      },
      "source": [
        "#Open Data\n",
        "We will use the pandas read_csv() function to import a CSV file from a URL and store the data into a Pandas dataframe."
      ]
    },
    {
      "cell_type": "code",
      "metadata": {
        "id": "c0qA3Ovm-wp8"
      },
      "source": [
        "df = pd.read_csv(\"https://raw.githubusercontent.com/uofldmlab/IntroDMLab/main/processed.cleveland2.csv\")"
      ],
      "execution_count": 13,
      "outputs": []
    },
    {
      "cell_type": "markdown",
      "metadata": {
        "id": "3WRRhm9vg_aP"
      },
      "source": [
        "# Select X & Y\n",
        "The \"age\" variable will be the X value while the \"resting_blood_pressure\" variable will be the Y value."
      ]
    },
    {
      "cell_type": "code",
      "metadata": {
        "id": "glTlupOOBVaJ"
      },
      "source": [
        "X = df[['age']]\n",
        "Y = df['resting_blood_pressure']"
      ],
      "execution_count": 19,
      "outputs": []
    },
    {
      "cell_type": "markdown",
      "metadata": {
        "id": "axtfaFRXhWAy"
      },
      "source": [
        "#Test/Train Split\n",
        "The train_test_split() function will split the X and Y vectors into an 80% test and 20% test sets. The training set is used to the train the linear regression model while the test set is held out to evaluate the performance of the model.  We set the random_stat for reproducibility. "
      ]
    },
    {
      "cell_type": "code",
      "metadata": {
        "id": "NWWbu7Tw-3pt"
      },
      "source": [
        "X_train, X_test, y_train, y_test = train_test_split(X,Y,test_size=.80, random_state=100)"
      ],
      "execution_count": 20,
      "outputs": []
    },
    {
      "cell_type": "markdown",
      "metadata": {
        "id": "bxa55XZ7i72d"
      },
      "source": [
        "#Train Linear Regression Model\n",
        "We use the LinearRegression() function with the X_train and y_train vectors, which are used to train the model. "
      ]
    },
    {
      "cell_type": "code",
      "metadata": {
        "id": "KZGhkEBb_PDC"
      },
      "source": [
        "model = LinearRegression().fit(X_train, y_train)"
      ],
      "execution_count": 21,
      "outputs": []
    },
    {
      "cell_type": "markdown",
      "metadata": {
        "id": "ZiTW-UYljoV4"
      },
      "source": [
        "#Predict\n",
        "We use the predict() function to predict the Y values for the X_test set."
      ]
    },
    {
      "cell_type": "code",
      "metadata": {
        "id": "hhpvuM1a_YQn"
      },
      "source": [
        "y_predicted = model.predict(X_test)"
      ],
      "execution_count": 22,
      "outputs": []
    },
    {
      "cell_type": "markdown",
      "metadata": {
        "id": "YiqPCrTPjC3s"
      },
      "source": [
        "# Calculate MSE\n",
        "We calucate the mean square error of our model by comparing the actual to the predicted values."
      ]
    },
    {
      "cell_type": "code",
      "metadata": {
        "id": "yZco_WQe_ZvB",
        "outputId": "c7e9f88c-e2d5-415f-e186-be5942f70416",
        "colab": {
          "base_uri": "https://localhost:8080/"
        }
      },
      "source": [
        "metrics.mean_squared_error(y_test, y_predicted)"
      ],
      "execution_count": 23,
      "outputs": [
        {
          "output_type": "execute_result",
          "data": {
            "text/plain": [
              "293.1437695088338"
            ]
          },
          "metadata": {},
          "execution_count": 23
        }
      ]
    },
    {
      "cell_type": "code",
      "metadata": {
        "id": "k-IdRxEW_3oE"
      },
      "source": [
        ""
      ],
      "execution_count": 18,
      "outputs": []
    }
  ]
}