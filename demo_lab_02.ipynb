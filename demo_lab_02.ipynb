{
  "nbformat": 4,
  "nbformat_minor": 0,
  "metadata": {
    "colab": {
      "name": "demo_lab_02.ipynb",
      "provenance": [],
      "authorship_tag": "ABX9TyMS2G2zDoGvJxKq/anCwen4",
      "include_colab_link": true
    },
    "kernelspec": {
      "name": "python3",
      "display_name": "Python 3"
    },
    "language_info": {
      "name": "python"
    }
  },
  "cells": [
    {
      "cell_type": "markdown",
      "metadata": {
        "id": "view-in-github",
        "colab_type": "text"
      },
      "source": [
        "<a href=\"https://colab.research.google.com/github/uofldmlab/IntroDMLab/blob/main/demo_lab_02.ipynb\" target=\"_parent\"><img src=\"https://colab.research.google.com/assets/colab-badge.svg\" alt=\"Open In Colab\"/></a>"
      ]
    },
    {
      "cell_type": "markdown",
      "metadata": {
        "id": "g8mOfo1nJ3Qg"
      },
      "source": [
        "Click the Google Colab image at the top of the page to launch the lab in Google Colab: ![screenshot-2021-09-08-9-15-39- (1).png](data:image/png;base64,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) \n",
        "\n",
        "The following link provides a brief tutorial on how to use Google Colab: https://www.youtube.com/watch?v=inN8seMm7UI&ab_channel=TensorFlow"
      ]
    },
    {
      "cell_type": "markdown",
      "metadata": {
        "id": "Xx7i8Nt3Kfxg"
      },
      "source": [
        "#Lab #02: Linear Regression & K-Means"
      ]
    },
    {
      "cell_type": "markdown",
      "metadata": {
        "id": "J1ditK15b3Lw"
      },
      "source": [
        "# Import Python Libraries\n",
        "\n",
        "Importing Python libraries extend data-type and function capabilities that are outside the core Python language. The Pandas library is a Python library that is widely used to open, view, manipulate, and analyze data. The Sklearn library is used for machine learning algorithms such as Linear Regression and K-Means. Matplotlib is used for plotting data visualizations."
      ]
    },
    {
      "cell_type": "code",
      "metadata": {
        "id": "GRn0VPvi-uNP"
      },
      "source": [
        "import pandas as pd #pandas for dataframes\n",
        "from sklearn.linear_model import LinearRegression #sklearn.linear_model for the Linear Regression model \n",
        "import sklearn.metrics as metrics #to measure model performance\n",
        "import matplotlib.pyplot as plt #for plotting\n",
        "from sklearn.cluster import KMeans #for kmeans algorithm\n",
        "\n",
        "plt.rcParams['figure.figsize'] = [15,8] #defining plot size"
      ],
      "execution_count": 57,
      "outputs": []
    },
    {
      "cell_type": "markdown",
      "metadata": {
        "id": "szqQy7nFcBLl"
      },
      "source": [
        "# Open Data\n",
        "We will use the pandas read_csv() function to import a CSV file from a URL and store the data into a Pandas dataframe.\n",
        "\n",
        "In this case we are reading a comma delimited text file (.csv) from: https://raw.githubusercontent.com/uofldmlab/IntroDMLab/main/insurance.csv\n",
        "\n",
        "This particular text file contains data related to medical charges. The dataset contains 7 different variables; 6 independent (age, BMI, sex, smoker, children, region); 1 dependent (charges)."
      ]
    },
    {
      "cell_type": "code",
      "metadata": {
        "id": "c0qA3Ovm-wp8"
      },
      "source": [
        "df = pd.read_csv(\"https://raw.githubusercontent.com/uofldmlab/IntroDMLab/main/insurance.csv\")"
      ],
      "execution_count": 3,
      "outputs": []
    },
    {
      "cell_type": "code",
      "metadata": {
        "id": "hY6OoPEHlmLP",
        "collapsed": true
      },
      "source": [
        "df.head()"
      ],
      "execution_count": null,
      "outputs": []
    },
    {
      "cell_type": "markdown",
      "metadata": {
        "id": "3WRRhm9vg_aP"
      },
      "source": [
        "# Select X & Y\n",
        "Suppose we wanted to use a person's age to predict their medical charges, under the general assumption that a person's medical care costs increase as the person ages. The \"age\" column will be the X variable in your linear regression equation, while the \"charges\" column will be the Y variable of the equation. X and Y will have the datatype of a Python list."
      ]
    },
    {
      "cell_type": "code",
      "metadata": {
        "id": "glTlupOOBVaJ"
      },
      "source": [
        "X = df[['age']]\n",
        "Y = df['charges']"
      ],
      "execution_count": 9,
      "outputs": []
    },
    {
      "cell_type": "markdown",
      "metadata": {
        "id": "SBcLv0nqdmON"
      },
      "source": [
        "#Build Model\n",
        "We use the X and Y list variables from above to fit a linear regression model. We then compare our model's performance and predicting medical charges against the actual value."
      ]
    },
    {
      "cell_type": "code",
      "metadata": {
        "id": "q3LUT160i_Kd"
      },
      "source": [
        "linear_regressor = LinearRegression() #linear regression model\n",
        "linear_regressor.fit(X, Y) #fit model\n",
        "Y_pred = linear_regressor.predict(X) #make predictions"
      ],
      "execution_count": 12,
      "outputs": []
    },
    {
      "cell_type": "markdown",
      "metadata": {
        "id": "OAi2OFJYdukB"
      },
      "source": [
        "#Plot Equation"
      ]
    },
    {
      "cell_type": "code",
      "metadata": {
        "collapsed": true,
        "id": "fslX4Uujd70Q"
      },
      "source": [
        "plt.scatter(X, Y) #plot points\n",
        "plt.plot(X, Y_pred, color='red') #plot regression line\n",
        "plt.show() #display plot"
      ],
      "execution_count": null,
      "outputs": []
    },
    {
      "cell_type": "markdown",
      "metadata": {
        "id": "WZa2Y3XD24AV"
      },
      "source": [
        "#Mean Square Error\n",
        "The mean square error (MSE) represents the average of the squares of the errors, which is a metric for evaluating the performances of a regression model."
      ]
    },
    {
      "cell_type": "code",
      "metadata": {
        "id": "C2C38Bb4mEat"
      },
      "source": [
        "metrics.mean_squared_error(Y, Y_pred)"
      ],
      "execution_count": null,
      "outputs": []
    },
    {
      "cell_type": "markdown",
      "metadata": {
        "id": "v7wr0ig529oP"
      },
      "source": [
        "#Equation\n",
        "To get the linear regression equation of: y = intercept + slope(X), we call the *intercept_* and *coef_* attributes of our linear regression model."
      ]
    },
    {
      "cell_type": "code",
      "metadata": {
        "id": "E8Fjaj95yOZu",
        "collapsed": true
      },
      "source": [
        "print('intercept:', linear_regressor.intercept_)\n",
        "print('slope:', linear_regressor.coef_)\n"
      ],
      "execution_count": null,
      "outputs": []
    },
    {
      "cell_type": "markdown",
      "metadata": {
        "id": "90QZ_p0e3BEA"
      },
      "source": [
        "#K-Means Clustering\n",
        "K-Means clustering is a way to mathematically segment data into groups, where \"K\" is the number of groups."
      ]
    },
    {
      "cell_type": "markdown",
      "metadata": {
        "id": "RwdbtDCohlAN"
      },
      "source": [
        "#Selecting Fields\n",
        "In this case we want to use the age and BMI columns to segment the data."
      ]
    },
    {
      "cell_type": "code",
      "metadata": {
        "collapsed": true,
        "id": "2P1wpSxPgMov"
      },
      "source": [
        "df_numeric = df[['age','bmi']]\n",
        "df_numeric.head()"
      ],
      "execution_count": null,
      "outputs": []
    },
    {
      "cell_type": "markdown",
      "metadata": {
        "id": "mA3LGqxRiGWe"
      },
      "source": [
        "#K=3\n",
        "\n",
        "We use the KMeans function to build clusters of size K (3 in this example). We can then visualize the data on a scatter plot, and color the points by cluster, with the centroid of each cluster in red. The *cluster_centers_* attribute of the KMeans model provides the coordinates for each of the clusters."
      ]
    },
    {
      "cell_type": "code",
      "metadata": {
        "id": "SzhtR1JFl9bH",
        "collapsed": true
      },
      "source": [
        "k = 3\n",
        "kmeans = KMeans(n_clusters=k, init='k-means++', max_iter=300, n_init=10, random_state=0)\n",
        "pred_y = kmeans.fit_predict(df_numeric)\n",
        "plt.scatter(df_numeric['age'], df_numeric['bmi'], c= kmeans.labels_.astype(float))\n",
        "plt.scatter(kmeans.cluster_centers_[:, 0], kmeans.cluster_centers_[:, 1], s=50, c='red')\n",
        "plt.show()\n",
        "print(kmeans.cluster_centers_)"
      ],
      "execution_count": null,
      "outputs": []
    },
    {
      "cell_type": "markdown",
      "metadata": {
        "id": "w9WtStAyzeWT"
      },
      "source": [
        "K=5"
      ]
    },
    {
      "cell_type": "code",
      "metadata": {
        "id": "58H6kxJCjOnp"
      },
      "source": [
        "k = 5\n",
        "kmeans = KMeans(n_clusters=k, init='k-means++', max_iter=300, n_init=10, random_state=0)\n",
        "pred_y = kmeans.fit_predict(df_numeric)\n",
        "plt.scatter(df_numeric['age'], df_numeric['bmi'], c= kmeans.labels_.astype(float))\n",
        "plt.scatter(kmeans.cluster_centers_[:, 0], kmeans.cluster_centers_[:, 1], s=50, c='red')\n",
        "plt.show()\n",
        "print(kmeans.cluster_centers_)"
      ],
      "execution_count": null,
      "outputs": []
    },
    {
      "cell_type": "markdown",
      "metadata": {
        "id": "pThc8TjCjVn_"
      },
      "source": [
        "#Lab Task #1\n",
        "\n",
        "Build a linear regression model that predicts charges given BMI."
      ]
    },
    {
      "cell_type": "code",
      "metadata": {
        "id": "bfTbxmKC0dL2"
      },
      "source": [
        ""
      ],
      "execution_count": 67,
      "outputs": []
    },
    {
      "cell_type": "code",
      "metadata": {
        "id": "257wOr5t0dp4"
      },
      "source": [
        ""
      ],
      "execution_count": 67,
      "outputs": []
    },
    {
      "cell_type": "markdown",
      "metadata": {
        "id": "b1ZCgwz9jbTa"
      },
      "source": [
        "Q1. What is the linear regression equation where X is BMI and Y is the charges?\n"
      ]
    },
    {
      "cell_type": "code",
      "metadata": {
        "id": "Hy12f9HhjX-m"
      },
      "source": [
        ""
      ],
      "execution_count": 67,
      "outputs": []
    },
    {
      "cell_type": "markdown",
      "metadata": {
        "id": "SmWLs9VYjwP4"
      },
      "source": [
        "Q2. What is the MSE of the linear regression model where X is BMI and Y is the charges?\n",
        "\n"
      ]
    },
    {
      "cell_type": "code",
      "metadata": {
        "id": "zrrYEIi3j3AC"
      },
      "source": [
        ""
      ],
      "execution_count": null,
      "outputs": []
    },
    {
      "cell_type": "markdown",
      "metadata": {
        "id": "ngcv5JP90swG"
      },
      "source": [
        "#Lab Task #2\n",
        "Construct a K-Means cluster (K=3) for BMI and charges."
      ]
    },
    {
      "cell_type": "code",
      "metadata": {
        "id": "W7qWJfEj06PP"
      },
      "source": [
        ""
      ],
      "execution_count": null,
      "outputs": []
    },
    {
      "cell_type": "markdown",
      "metadata": {
        "id": "xutvzMNKzoBK"
      },
      "source": [
        "Q3. What are the centroids of the KMeans cluster (K=3) for BMI and charges?"
      ]
    },
    {
      "cell_type": "code",
      "metadata": {
        "id": "3plBA_9W0CyK"
      },
      "source": [
        ""
      ],
      "execution_count": null,
      "outputs": []
    },
    {
      "cell_type": "markdown",
      "metadata": {
        "id": "UJQRcbTT-lwT"
      },
      "source": [
        "**Email your responses to Questions #1-#3 to your instructor.**"
      ]
    }
  ]
}