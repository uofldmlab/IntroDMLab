{
  "nbformat": 4,
  "nbformat_minor": 0,
  "metadata": {
    "colab": {
      "name": "demo_lab_01_SOL.ipynb",
      "provenance": [],
      "authorship_tag": "ABX9TyOxEE1vN1S75g93pulHd1pz",
      "include_colab_link": true
    },
    "kernelspec": {
      "name": "python3",
      "display_name": "Python 3"
    },
    "language_info": {
      "name": "python"
    }
  },
  "cells": [
    {
      "cell_type": "markdown",
      "metadata": {
        "id": "view-in-github",
        "colab_type": "text"
      },
      "source": [
        "<a href=\"https://colab.research.google.com/github/uofldmlab/IntroDMLab/blob/main/demo_lab_01_SOL.ipynb\" target=\"_parent\"><img src=\"https://colab.research.google.com/assets/colab-badge.svg\" alt=\"Open In Colab\"/></a>"
      ]
    },
    {
      "cell_type": "markdown",
      "metadata": {
        "id": "J1ditK15b3Lw"
      },
      "source": [
        "*Click the Google Colab image at the top of the page to launch the lab in Google Colab:*![screenshot-2021-09-08-9-15-39- (1).png](data:image/png;base64,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)\n",
        "\n",
        "The following link provides a brief tutorial on how to use Google Colab: [https://www.youtube.com/watch?v=inN8seMm7UI&ab_channel=TensorFlow](https://www.youtube.com/watch?v=inN8seMm7UI&ab_channel=TensorFlow)"
      ]
    },
    {
      "cell_type": "markdown",
      "metadata": {
        "id": "rfqvmlXSbGdh"
      },
      "source": [
        "#Lab #01: Exploring Data"
      ]
    },
    {
      "cell_type": "markdown",
      "metadata": {
        "id": "zbED-_GATAYA"
      },
      "source": [
        "# Import Python Libraries\n",
        "\n",
        "Importing Python libraries extend data-type and function capabilities that are outside the core Python language. The Pandas library is a Python library that is widely used to open, view, manipulate, and analyze data."
      ]
    },
    {
      "cell_type": "code",
      "metadata": {
        "id": "GRn0VPvi-uNP"
      },
      "source": [
        "import pandas as pd #import pandas"
      ],
      "execution_count": 19,
      "outputs": []
    },
    {
      "cell_type": "markdown",
      "metadata": {
        "id": "szqQy7nFcBLl"
      },
      "source": [
        "# Open Data\n",
        "We will use the pandas read_csv() function to import a CSV file from a URL and store the data into a Pandas dataframe.\n",
        "\n",
        "In this case we are reading a comma delimited text file (.csv) from: https://raw.githubusercontent.com/uofldmlab/IntroDMLab/main/insurance.csv\n",
        "\n",
        "This particular text file contains data related to medical charges. The dataset contains 7 different variables; 6 independent (age, BMI, sex, smoker, children, region); 1 dependent (charges).\n"
      ]
    },
    {
      "cell_type": "code",
      "metadata": {
        "id": "c0qA3Ovm-wp8"
      },
      "source": [
        "#open datafile and store into Pandas dataframe\n",
        "df = pd.read_csv(\"https://raw.githubusercontent.com/uofldmlab/IntroDMLab/main/insurance1.csv\")"
      ],
      "execution_count": 20,
      "outputs": []
    },
    {
      "cell_type": "markdown",
      "metadata": {
        "id": "hwglUpzwFWd1"
      },
      "source": [
        "#Data Types\n",
        "The dtypes attribute of the Pandas dataframe provides the datatypes of each of the fields in the dataframe.  In this example both *int64* and *float64* represent numeric data, while *object* represents non-numeric (string/categorical)"
      ]
    },
    {
      "cell_type": "markdown",
      "metadata": {
        "id": "Jg1EWSKG6vPL"
      },
      "source": [
        ""
      ]
    },
    {
      "cell_type": "code",
      "metadata": {
        "id": "Xs_ECCa6FZwv",
        "colab": {
          "base_uri": "https://localhost:8080/"
        },
        "outputId": "c91a2e01-dbd4-49b4-d620-929fdb84f043"
      },
      "source": [
        "df.dtypes"
      ],
      "execution_count": 21,
      "outputs": [
        {
          "output_type": "execute_result",
          "data": {
            "text/plain": [
              "Unnamed: 0      int64\n",
              "age             int64\n",
              "sex            object\n",
              "bmi           float64\n",
              "children        int64\n",
              "smoker         object\n",
              "region         object\n",
              "charges       float64\n",
              "dtype: object"
            ]
          },
          "metadata": {},
          "execution_count": 21
        }
      ]
    },
    {
      "cell_type": "markdown",
      "metadata": {
        "id": "4FlJvKWBcLmo"
      },
      "source": [
        "#Display Data\n",
        "The Pandas dataframe provides a data structure of rows and columns of the dataset we read in. The *head()* function is used to display the first few rows of the dataframe."
      ]
    },
    {
      "cell_type": "code",
      "metadata": {
        "id": "SuQiVREGBU_z",
        "colab": {
          "base_uri": "https://localhost:8080/",
          "height": 202
        },
        "outputId": "91620799-73af-4d7f-885a-50c04ca46773"
      },
      "source": [
        "df.head()"
      ],
      "execution_count": 22,
      "outputs": [
        {
          "output_type": "execute_result",
          "data": {
            "text/html": [
              "<div>\n",
              "<style scoped>\n",
              "    .dataframe tbody tr th:only-of-type {\n",
              "        vertical-align: middle;\n",
              "    }\n",
              "\n",
              "    .dataframe tbody tr th {\n",
              "        vertical-align: top;\n",
              "    }\n",
              "\n",
              "    .dataframe thead th {\n",
              "        text-align: right;\n",
              "    }\n",
              "</style>\n",
              "<table border=\"1\" class=\"dataframe\">\n",
              "  <thead>\n",
              "    <tr style=\"text-align: right;\">\n",
              "      <th></th>\n",
              "      <th>Unnamed: 0</th>\n",
              "      <th>age</th>\n",
              "      <th>sex</th>\n",
              "      <th>bmi</th>\n",
              "      <th>children</th>\n",
              "      <th>smoker</th>\n",
              "      <th>region</th>\n",
              "      <th>charges</th>\n",
              "    </tr>\n",
              "  </thead>\n",
              "  <tbody>\n",
              "    <tr>\n",
              "      <th>0</th>\n",
              "      <td>0</td>\n",
              "      <td>19</td>\n",
              "      <td>female</td>\n",
              "      <td>27.90</td>\n",
              "      <td>0</td>\n",
              "      <td>yes</td>\n",
              "      <td>southwest</td>\n",
              "      <td>16884.92</td>\n",
              "    </tr>\n",
              "    <tr>\n",
              "      <th>1</th>\n",
              "      <td>1</td>\n",
              "      <td>18</td>\n",
              "      <td>male</td>\n",
              "      <td>33.77</td>\n",
              "      <td>1</td>\n",
              "      <td>no</td>\n",
              "      <td>southeast</td>\n",
              "      <td>1725.55</td>\n",
              "    </tr>\n",
              "    <tr>\n",
              "      <th>2</th>\n",
              "      <td>2</td>\n",
              "      <td>28</td>\n",
              "      <td>male</td>\n",
              "      <td>33.00</td>\n",
              "      <td>3</td>\n",
              "      <td>no</td>\n",
              "      <td>southeast</td>\n",
              "      <td>4449.46</td>\n",
              "    </tr>\n",
              "    <tr>\n",
              "      <th>3</th>\n",
              "      <td>3</td>\n",
              "      <td>33</td>\n",
              "      <td>male</td>\n",
              "      <td>22.70</td>\n",
              "      <td>0</td>\n",
              "      <td>no</td>\n",
              "      <td>northwest</td>\n",
              "      <td>21984.47</td>\n",
              "    </tr>\n",
              "    <tr>\n",
              "      <th>4</th>\n",
              "      <td>4</td>\n",
              "      <td>32</td>\n",
              "      <td>male</td>\n",
              "      <td>28.88</td>\n",
              "      <td>0</td>\n",
              "      <td>no</td>\n",
              "      <td>northwest</td>\n",
              "      <td>3866.86</td>\n",
              "    </tr>\n",
              "  </tbody>\n",
              "</table>\n",
              "</div>"
            ],
            "text/plain": [
              "   Unnamed: 0  age     sex    bmi  children smoker     region   charges\n",
              "0           0   19  female  27.90         0    yes  southwest  16884.92\n",
              "1           1   18    male  33.77         1     no  southeast   1725.55\n",
              "2           2   28    male  33.00         3     no  southeast   4449.46\n",
              "3           3   33    male  22.70         0     no  northwest  21984.47\n",
              "4           4   32    male  28.88         0     no  northwest   3866.86"
            ]
          },
          "metadata": {},
          "execution_count": 22
        }
      ]
    },
    {
      "cell_type": "markdown",
      "metadata": {
        "id": "2plImd0OcLFs"
      },
      "source": [
        "By default the *head()* function will display the 5 rows of the dataframe, but additional rows can be displayed by supplying the desired number of rows as a parameter."
      ]
    },
    {
      "cell_type": "code",
      "metadata": {
        "id": "dVenq0O8cL1B",
        "colab": {
          "base_uri": "https://localhost:8080/",
          "height": 356
        },
        "outputId": "08802a18-a3d5-491e-e7a9-5c199a77b133"
      },
      "source": [
        "df.head(10)"
      ],
      "execution_count": 23,
      "outputs": [
        {
          "output_type": "execute_result",
          "data": {
            "text/html": [
              "<div>\n",
              "<style scoped>\n",
              "    .dataframe tbody tr th:only-of-type {\n",
              "        vertical-align: middle;\n",
              "    }\n",
              "\n",
              "    .dataframe tbody tr th {\n",
              "        vertical-align: top;\n",
              "    }\n",
              "\n",
              "    .dataframe thead th {\n",
              "        text-align: right;\n",
              "    }\n",
              "</style>\n",
              "<table border=\"1\" class=\"dataframe\">\n",
              "  <thead>\n",
              "    <tr style=\"text-align: right;\">\n",
              "      <th></th>\n",
              "      <th>Unnamed: 0</th>\n",
              "      <th>age</th>\n",
              "      <th>sex</th>\n",
              "      <th>bmi</th>\n",
              "      <th>children</th>\n",
              "      <th>smoker</th>\n",
              "      <th>region</th>\n",
              "      <th>charges</th>\n",
              "    </tr>\n",
              "  </thead>\n",
              "  <tbody>\n",
              "    <tr>\n",
              "      <th>0</th>\n",
              "      <td>0</td>\n",
              "      <td>19</td>\n",
              "      <td>female</td>\n",
              "      <td>27.90</td>\n",
              "      <td>0</td>\n",
              "      <td>yes</td>\n",
              "      <td>southwest</td>\n",
              "      <td>16884.92</td>\n",
              "    </tr>\n",
              "    <tr>\n",
              "      <th>1</th>\n",
              "      <td>1</td>\n",
              "      <td>18</td>\n",
              "      <td>male</td>\n",
              "      <td>33.77</td>\n",
              "      <td>1</td>\n",
              "      <td>no</td>\n",
              "      <td>southeast</td>\n",
              "      <td>1725.55</td>\n",
              "    </tr>\n",
              "    <tr>\n",
              "      <th>2</th>\n",
              "      <td>2</td>\n",
              "      <td>28</td>\n",
              "      <td>male</td>\n",
              "      <td>33.00</td>\n",
              "      <td>3</td>\n",
              "      <td>no</td>\n",
              "      <td>southeast</td>\n",
              "      <td>4449.46</td>\n",
              "    </tr>\n",
              "    <tr>\n",
              "      <th>3</th>\n",
              "      <td>3</td>\n",
              "      <td>33</td>\n",
              "      <td>male</td>\n",
              "      <td>22.70</td>\n",
              "      <td>0</td>\n",
              "      <td>no</td>\n",
              "      <td>northwest</td>\n",
              "      <td>21984.47</td>\n",
              "    </tr>\n",
              "    <tr>\n",
              "      <th>4</th>\n",
              "      <td>4</td>\n",
              "      <td>32</td>\n",
              "      <td>male</td>\n",
              "      <td>28.88</td>\n",
              "      <td>0</td>\n",
              "      <td>no</td>\n",
              "      <td>northwest</td>\n",
              "      <td>3866.86</td>\n",
              "    </tr>\n",
              "    <tr>\n",
              "      <th>5</th>\n",
              "      <td>5</td>\n",
              "      <td>31</td>\n",
              "      <td>female</td>\n",
              "      <td>25.74</td>\n",
              "      <td>0</td>\n",
              "      <td>no</td>\n",
              "      <td>southeast</td>\n",
              "      <td>3756.62</td>\n",
              "    </tr>\n",
              "    <tr>\n",
              "      <th>6</th>\n",
              "      <td>6</td>\n",
              "      <td>46</td>\n",
              "      <td>female</td>\n",
              "      <td>33.44</td>\n",
              "      <td>1</td>\n",
              "      <td>no</td>\n",
              "      <td>southeast</td>\n",
              "      <td>8240.59</td>\n",
              "    </tr>\n",
              "    <tr>\n",
              "      <th>7</th>\n",
              "      <td>7</td>\n",
              "      <td>37</td>\n",
              "      <td>female</td>\n",
              "      <td>27.74</td>\n",
              "      <td>3</td>\n",
              "      <td>no</td>\n",
              "      <td>northwest</td>\n",
              "      <td>7281.51</td>\n",
              "    </tr>\n",
              "    <tr>\n",
              "      <th>8</th>\n",
              "      <td>8</td>\n",
              "      <td>37</td>\n",
              "      <td>male</td>\n",
              "      <td>29.83</td>\n",
              "      <td>2</td>\n",
              "      <td>no</td>\n",
              "      <td>northeast</td>\n",
              "      <td>6406.41</td>\n",
              "    </tr>\n",
              "    <tr>\n",
              "      <th>9</th>\n",
              "      <td>9</td>\n",
              "      <td>60</td>\n",
              "      <td>female</td>\n",
              "      <td>25.84</td>\n",
              "      <td>0</td>\n",
              "      <td>no</td>\n",
              "      <td>northwest</td>\n",
              "      <td>28923.14</td>\n",
              "    </tr>\n",
              "  </tbody>\n",
              "</table>\n",
              "</div>"
            ],
            "text/plain": [
              "   Unnamed: 0  age     sex    bmi  children smoker     region   charges\n",
              "0           0   19  female  27.90         0    yes  southwest  16884.92\n",
              "1           1   18    male  33.77         1     no  southeast   1725.55\n",
              "2           2   28    male  33.00         3     no  southeast   4449.46\n",
              "3           3   33    male  22.70         0     no  northwest  21984.47\n",
              "4           4   32    male  28.88         0     no  northwest   3866.86\n",
              "5           5   31  female  25.74         0     no  southeast   3756.62\n",
              "6           6   46  female  33.44         1     no  southeast   8240.59\n",
              "7           7   37  female  27.74         3     no  northwest   7281.51\n",
              "8           8   37    male  29.83         2     no  northeast   6406.41\n",
              "9           9   60  female  25.84         0     no  northwest  28923.14"
            ]
          },
          "metadata": {},
          "execution_count": 23
        }
      ]
    },
    {
      "cell_type": "markdown",
      "metadata": {
        "id": "72QhiMsVcPpo"
      },
      "source": [
        "Only desired columns can be displayed by supplying column names."
      ]
    },
    {
      "cell_type": "code",
      "metadata": {
        "id": "qROkoFBecQba",
        "colab": {
          "base_uri": "https://localhost:8080/",
          "height": 202
        },
        "outputId": "c3931ddf-6143-4690-dfea-4c5728276a99"
      },
      "source": [
        "df[['age','bmi']].head()"
      ],
      "execution_count": 24,
      "outputs": [
        {
          "output_type": "execute_result",
          "data": {
            "text/html": [
              "<div>\n",
              "<style scoped>\n",
              "    .dataframe tbody tr th:only-of-type {\n",
              "        vertical-align: middle;\n",
              "    }\n",
              "\n",
              "    .dataframe tbody tr th {\n",
              "        vertical-align: top;\n",
              "    }\n",
              "\n",
              "    .dataframe thead th {\n",
              "        text-align: right;\n",
              "    }\n",
              "</style>\n",
              "<table border=\"1\" class=\"dataframe\">\n",
              "  <thead>\n",
              "    <tr style=\"text-align: right;\">\n",
              "      <th></th>\n",
              "      <th>age</th>\n",
              "      <th>bmi</th>\n",
              "    </tr>\n",
              "  </thead>\n",
              "  <tbody>\n",
              "    <tr>\n",
              "      <th>0</th>\n",
              "      <td>19</td>\n",
              "      <td>27.90</td>\n",
              "    </tr>\n",
              "    <tr>\n",
              "      <th>1</th>\n",
              "      <td>18</td>\n",
              "      <td>33.77</td>\n",
              "    </tr>\n",
              "    <tr>\n",
              "      <th>2</th>\n",
              "      <td>28</td>\n",
              "      <td>33.00</td>\n",
              "    </tr>\n",
              "    <tr>\n",
              "      <th>3</th>\n",
              "      <td>33</td>\n",
              "      <td>22.70</td>\n",
              "    </tr>\n",
              "    <tr>\n",
              "      <th>4</th>\n",
              "      <td>32</td>\n",
              "      <td>28.88</td>\n",
              "    </tr>\n",
              "  </tbody>\n",
              "</table>\n",
              "</div>"
            ],
            "text/plain": [
              "   age    bmi\n",
              "0   19  27.90\n",
              "1   18  33.77\n",
              "2   28  33.00\n",
              "3   33  22.70\n",
              "4   32  28.88"
            ]
          },
          "metadata": {},
          "execution_count": 24
        }
      ]
    },
    {
      "cell_type": "markdown",
      "metadata": {
        "id": "2-jOL2xIDNZp"
      },
      "source": [
        "#Dataframe Size\n",
        "The *shape*  of the Pandas dataframe provides the number of records and the number of columns in the form of (rows, columns)."
      ]
    },
    {
      "cell_type": "code",
      "metadata": {
        "id": "1rvsmWz5DTNn",
        "colab": {
          "base_uri": "https://localhost:8080/"
        },
        "outputId": "ccdef940-7b47-46d2-e3b6-e5ae40e606f3"
      },
      "source": [
        "df.shape"
      ],
      "execution_count": 25,
      "outputs": [
        {
          "output_type": "execute_result",
          "data": {
            "text/plain": [
              "(1338, 8)"
            ]
          },
          "metadata": {},
          "execution_count": 25
        }
      ]
    },
    {
      "cell_type": "markdown",
      "metadata": {
        "id": "qRfk7AkEcgUj"
      },
      "source": [
        "#Filtering Data\n",
        "\n",
        "Select rows can be filtered.  For instance is we only wanted to display only the rows where the sex=='male'. "
      ]
    },
    {
      "cell_type": "code",
      "metadata": {
        "id": "4WzD2Qhfcg1T",
        "colab": {
          "base_uri": "https://localhost:8080/",
          "height": 416
        },
        "outputId": "e8c0c18d-143b-44d9-8815-05772311d040"
      },
      "source": [
        "df[df['sex']=='male']"
      ],
      "execution_count": 26,
      "outputs": [
        {
          "output_type": "execute_result",
          "data": {
            "text/html": [
              "<div>\n",
              "<style scoped>\n",
              "    .dataframe tbody tr th:only-of-type {\n",
              "        vertical-align: middle;\n",
              "    }\n",
              "\n",
              "    .dataframe tbody tr th {\n",
              "        vertical-align: top;\n",
              "    }\n",
              "\n",
              "    .dataframe thead th {\n",
              "        text-align: right;\n",
              "    }\n",
              "</style>\n",
              "<table border=\"1\" class=\"dataframe\">\n",
              "  <thead>\n",
              "    <tr style=\"text-align: right;\">\n",
              "      <th></th>\n",
              "      <th>Unnamed: 0</th>\n",
              "      <th>age</th>\n",
              "      <th>sex</th>\n",
              "      <th>bmi</th>\n",
              "      <th>children</th>\n",
              "      <th>smoker</th>\n",
              "      <th>region</th>\n",
              "      <th>charges</th>\n",
              "    </tr>\n",
              "  </thead>\n",
              "  <tbody>\n",
              "    <tr>\n",
              "      <th>1</th>\n",
              "      <td>1</td>\n",
              "      <td>18</td>\n",
              "      <td>male</td>\n",
              "      <td>33.77</td>\n",
              "      <td>1</td>\n",
              "      <td>no</td>\n",
              "      <td>southeast</td>\n",
              "      <td>1725.55</td>\n",
              "    </tr>\n",
              "    <tr>\n",
              "      <th>2</th>\n",
              "      <td>2</td>\n",
              "      <td>28</td>\n",
              "      <td>male</td>\n",
              "      <td>33.00</td>\n",
              "      <td>3</td>\n",
              "      <td>no</td>\n",
              "      <td>southeast</td>\n",
              "      <td>4449.46</td>\n",
              "    </tr>\n",
              "    <tr>\n",
              "      <th>3</th>\n",
              "      <td>3</td>\n",
              "      <td>33</td>\n",
              "      <td>male</td>\n",
              "      <td>22.70</td>\n",
              "      <td>0</td>\n",
              "      <td>no</td>\n",
              "      <td>northwest</td>\n",
              "      <td>21984.47</td>\n",
              "    </tr>\n",
              "    <tr>\n",
              "      <th>4</th>\n",
              "      <td>4</td>\n",
              "      <td>32</td>\n",
              "      <td>male</td>\n",
              "      <td>28.88</td>\n",
              "      <td>0</td>\n",
              "      <td>no</td>\n",
              "      <td>northwest</td>\n",
              "      <td>3866.86</td>\n",
              "    </tr>\n",
              "    <tr>\n",
              "      <th>8</th>\n",
              "      <td>8</td>\n",
              "      <td>37</td>\n",
              "      <td>male</td>\n",
              "      <td>29.83</td>\n",
              "      <td>2</td>\n",
              "      <td>no</td>\n",
              "      <td>northeast</td>\n",
              "      <td>6406.41</td>\n",
              "    </tr>\n",
              "    <tr>\n",
              "      <th>...</th>\n",
              "      <td>...</td>\n",
              "      <td>...</td>\n",
              "      <td>...</td>\n",
              "      <td>...</td>\n",
              "      <td>...</td>\n",
              "      <td>...</td>\n",
              "      <td>...</td>\n",
              "      <td>...</td>\n",
              "    </tr>\n",
              "    <tr>\n",
              "      <th>1324</th>\n",
              "      <td>1324</td>\n",
              "      <td>31</td>\n",
              "      <td>male</td>\n",
              "      <td>25.94</td>\n",
              "      <td>1</td>\n",
              "      <td>no</td>\n",
              "      <td>northwest</td>\n",
              "      <td>4239.89</td>\n",
              "    </tr>\n",
              "    <tr>\n",
              "      <th>1325</th>\n",
              "      <td>1325</td>\n",
              "      <td>61</td>\n",
              "      <td>male</td>\n",
              "      <td>33.53</td>\n",
              "      <td>0</td>\n",
              "      <td>no</td>\n",
              "      <td>northeast</td>\n",
              "      <td>13143.34</td>\n",
              "    </tr>\n",
              "    <tr>\n",
              "      <th>1327</th>\n",
              "      <td>1327</td>\n",
              "      <td>51</td>\n",
              "      <td>male</td>\n",
              "      <td>30.03</td>\n",
              "      <td>1</td>\n",
              "      <td>no</td>\n",
              "      <td>southeast</td>\n",
              "      <td>9377.90</td>\n",
              "    </tr>\n",
              "    <tr>\n",
              "      <th>1329</th>\n",
              "      <td>1329</td>\n",
              "      <td>52</td>\n",
              "      <td>male</td>\n",
              "      <td>38.60</td>\n",
              "      <td>2</td>\n",
              "      <td>no</td>\n",
              "      <td>southwest</td>\n",
              "      <td>10325.21</td>\n",
              "    </tr>\n",
              "    <tr>\n",
              "      <th>1333</th>\n",
              "      <td>1333</td>\n",
              "      <td>50</td>\n",
              "      <td>male</td>\n",
              "      <td>30.97</td>\n",
              "      <td>3</td>\n",
              "      <td>no</td>\n",
              "      <td>northwest</td>\n",
              "      <td>10600.55</td>\n",
              "    </tr>\n",
              "  </tbody>\n",
              "</table>\n",
              "<p>676 rows × 8 columns</p>\n",
              "</div>"
            ],
            "text/plain": [
              "      Unnamed: 0  age   sex    bmi  children smoker     region   charges\n",
              "1              1   18  male  33.77         1     no  southeast   1725.55\n",
              "2              2   28  male  33.00         3     no  southeast   4449.46\n",
              "3              3   33  male  22.70         0     no  northwest  21984.47\n",
              "4              4   32  male  28.88         0     no  northwest   3866.86\n",
              "8              8   37  male  29.83         2     no  northeast   6406.41\n",
              "...          ...  ...   ...    ...       ...    ...        ...       ...\n",
              "1324        1324   31  male  25.94         1     no  northwest   4239.89\n",
              "1325        1325   61  male  33.53         0     no  northeast  13143.34\n",
              "1327        1327   51  male  30.03         1     no  southeast   9377.90\n",
              "1329        1329   52  male  38.60         2     no  southwest  10325.21\n",
              "1333        1333   50  male  30.97         3     no  northwest  10600.55\n",
              "\n",
              "[676 rows x 8 columns]"
            ]
          },
          "metadata": {},
          "execution_count": 26
        }
      ]
    },
    {
      "cell_type": "markdown",
      "metadata": {
        "id": "P_A7pHdLdG-_"
      },
      "source": [
        "The following shows how to display records where the medical charges were less than $2,000. Standard boolean operators can be used here (==, !=, <=, >=, <, >)"
      ]
    },
    {
      "cell_type": "code",
      "metadata": {
        "id": "-U6rfy6kcp89",
        "colab": {
          "base_uri": "https://localhost:8080/",
          "height": 416
        },
        "outputId": "0c27f50e-dd23-49cd-9d2b-011861eedc3d"
      },
      "source": [
        "df[df['charges']<2000]"
      ],
      "execution_count": 27,
      "outputs": [
        {
          "output_type": "execute_result",
          "data": {
            "text/html": [
              "<div>\n",
              "<style scoped>\n",
              "    .dataframe tbody tr th:only-of-type {\n",
              "        vertical-align: middle;\n",
              "    }\n",
              "\n",
              "    .dataframe tbody tr th {\n",
              "        vertical-align: top;\n",
              "    }\n",
              "\n",
              "    .dataframe thead th {\n",
              "        text-align: right;\n",
              "    }\n",
              "</style>\n",
              "<table border=\"1\" class=\"dataframe\">\n",
              "  <thead>\n",
              "    <tr style=\"text-align: right;\">\n",
              "      <th></th>\n",
              "      <th>Unnamed: 0</th>\n",
              "      <th>age</th>\n",
              "      <th>sex</th>\n",
              "      <th>bmi</th>\n",
              "      <th>children</th>\n",
              "      <th>smoker</th>\n",
              "      <th>region</th>\n",
              "      <th>charges</th>\n",
              "    </tr>\n",
              "  </thead>\n",
              "  <tbody>\n",
              "    <tr>\n",
              "      <th>1</th>\n",
              "      <td>1</td>\n",
              "      <td>18</td>\n",
              "      <td>male</td>\n",
              "      <td>33.77</td>\n",
              "      <td>1</td>\n",
              "      <td>no</td>\n",
              "      <td>southeast</td>\n",
              "      <td>1725.55</td>\n",
              "    </tr>\n",
              "    <tr>\n",
              "      <th>12</th>\n",
              "      <td>12</td>\n",
              "      <td>23</td>\n",
              "      <td>male</td>\n",
              "      <td>34.40</td>\n",
              "      <td>0</td>\n",
              "      <td>no</td>\n",
              "      <td>southwest</td>\n",
              "      <td>1826.84</td>\n",
              "    </tr>\n",
              "    <tr>\n",
              "      <th>15</th>\n",
              "      <td>15</td>\n",
              "      <td>19</td>\n",
              "      <td>male</td>\n",
              "      <td>24.60</td>\n",
              "      <td>1</td>\n",
              "      <td>no</td>\n",
              "      <td>southwest</td>\n",
              "      <td>1837.24</td>\n",
              "    </tr>\n",
              "    <tr>\n",
              "      <th>22</th>\n",
              "      <td>22</td>\n",
              "      <td>18</td>\n",
              "      <td>male</td>\n",
              "      <td>34.10</td>\n",
              "      <td>0</td>\n",
              "      <td>no</td>\n",
              "      <td>southeast</td>\n",
              "      <td>1137.01</td>\n",
              "    </tr>\n",
              "    <tr>\n",
              "      <th>35</th>\n",
              "      <td>35</td>\n",
              "      <td>19</td>\n",
              "      <td>male</td>\n",
              "      <td>20.42</td>\n",
              "      <td>0</td>\n",
              "      <td>no</td>\n",
              "      <td>northwest</td>\n",
              "      <td>1625.43</td>\n",
              "    </tr>\n",
              "    <tr>\n",
              "      <th>...</th>\n",
              "      <td>...</td>\n",
              "      <td>...</td>\n",
              "      <td>...</td>\n",
              "      <td>...</td>\n",
              "      <td>...</td>\n",
              "      <td>...</td>\n",
              "      <td>...</td>\n",
              "      <td>...</td>\n",
              "    </tr>\n",
              "    <tr>\n",
              "      <th>1295</th>\n",
              "      <td>1295</td>\n",
              "      <td>20</td>\n",
              "      <td>male</td>\n",
              "      <td>22.00</td>\n",
              "      <td>1</td>\n",
              "      <td>no</td>\n",
              "      <td>southwest</td>\n",
              "      <td>1964.78</td>\n",
              "    </tr>\n",
              "    <tr>\n",
              "      <th>1296</th>\n",
              "      <td>1296</td>\n",
              "      <td>18</td>\n",
              "      <td>male</td>\n",
              "      <td>26.12</td>\n",
              "      <td>0</td>\n",
              "      <td>no</td>\n",
              "      <td>northeast</td>\n",
              "      <td>1708.93</td>\n",
              "    </tr>\n",
              "    <tr>\n",
              "      <th>1316</th>\n",
              "      <td>1316</td>\n",
              "      <td>19</td>\n",
              "      <td>female</td>\n",
              "      <td>20.60</td>\n",
              "      <td>0</td>\n",
              "      <td>no</td>\n",
              "      <td>southwest</td>\n",
              "      <td>1731.68</td>\n",
              "    </tr>\n",
              "    <tr>\n",
              "      <th>1317</th>\n",
              "      <td>1317</td>\n",
              "      <td>18</td>\n",
              "      <td>male</td>\n",
              "      <td>53.13</td>\n",
              "      <td>0</td>\n",
              "      <td>no</td>\n",
              "      <td>southeast</td>\n",
              "      <td>1163.46</td>\n",
              "    </tr>\n",
              "    <tr>\n",
              "      <th>1335</th>\n",
              "      <td>1335</td>\n",
              "      <td>18</td>\n",
              "      <td>female</td>\n",
              "      <td>36.85</td>\n",
              "      <td>0</td>\n",
              "      <td>no</td>\n",
              "      <td>southeast</td>\n",
              "      <td>1629.83</td>\n",
              "    </tr>\n",
              "  </tbody>\n",
              "</table>\n",
              "<p>92 rows × 8 columns</p>\n",
              "</div>"
            ],
            "text/plain": [
              "      Unnamed: 0  age     sex    bmi  children smoker     region  charges\n",
              "1              1   18    male  33.77         1     no  southeast  1725.55\n",
              "12            12   23    male  34.40         0     no  southwest  1826.84\n",
              "15            15   19    male  24.60         1     no  southwest  1837.24\n",
              "22            22   18    male  34.10         0     no  southeast  1137.01\n",
              "35            35   19    male  20.42         0     no  northwest  1625.43\n",
              "...          ...  ...     ...    ...       ...    ...        ...      ...\n",
              "1295        1295   20    male  22.00         1     no  southwest  1964.78\n",
              "1296        1296   18    male  26.12         0     no  northeast  1708.93\n",
              "1316        1316   19  female  20.60         0     no  southwest  1731.68\n",
              "1317        1317   18    male  53.13         0     no  southeast  1163.46\n",
              "1335        1335   18  female  36.85         0     no  southeast  1629.83\n",
              "\n",
              "[92 rows x 8 columns]"
            ]
          },
          "metadata": {},
          "execution_count": 27
        }
      ]
    },
    {
      "cell_type": "markdown",
      "metadata": {
        "id": "v75w0LaadaRa"
      },
      "source": [
        "We can also use the AND (&) and OR (|) operators to filter on multiple conditions.  For instance if we want to know how many men are younger than 19 in the dataset:"
      ]
    },
    {
      "cell_type": "code",
      "metadata": {
        "id": "jb6xqSWAc4h2",
        "colab": {
          "base_uri": "https://localhost:8080/"
        },
        "outputId": "e39cc393-f59f-4cc5-e10f-aa9f9ec29a26"
      },
      "source": [
        "len(df[(df['sex']=='male')&(df['age']<19)])"
      ],
      "execution_count": 28,
      "outputs": [
        {
          "output_type": "execute_result",
          "data": {
            "text/plain": [
              "36"
            ]
          },
          "metadata": {},
          "execution_count": 28
        }
      ]
    },
    {
      "cell_type": "markdown",
      "metadata": {
        "id": "m6uz_Jqkz_p8"
      },
      "source": [
        "Note the use of the *len()* function to obtain the number of rows in the result of the filtered dataframe."
      ]
    },
    {
      "cell_type": "markdown",
      "metadata": {
        "id": "h9DXglILcW8I"
      },
      "source": [
        "#Describe the Data\n",
        "The describe() function of the Pandas dataframe provides the numeric descriptive statistics of all of the numeric columns.\n",
        "\n",
        "Below is a description of the output:\n",
        "\n",
        "count - Count number of non-NA/null observations.\n",
        "\n",
        "mean - Mean of the values.\n",
        "\n",
        "std - Standard deviation of the observations.\n",
        "\n",
        "min - Minimum of the values in the object.\n",
        "\n",
        "25% - lower 25 percentile\n",
        "\n",
        "50% - 50th percentile (median)\n",
        "\n",
        "75% - upper 75th percentile \n",
        "\n",
        "max - Maximum of the values in the object."
      ]
    },
    {
      "cell_type": "code",
      "metadata": {
        "id": "5Z8BKG4PZgl2",
        "colab": {
          "base_uri": "https://localhost:8080/",
          "height": 295
        },
        "outputId": "7a80291f-a703-488d-898a-d13d64ef03e6"
      },
      "source": [
        "df.describe()"
      ],
      "execution_count": 29,
      "outputs": [
        {
          "output_type": "execute_result",
          "data": {
            "text/html": [
              "<div>\n",
              "<style scoped>\n",
              "    .dataframe tbody tr th:only-of-type {\n",
              "        vertical-align: middle;\n",
              "    }\n",
              "\n",
              "    .dataframe tbody tr th {\n",
              "        vertical-align: top;\n",
              "    }\n",
              "\n",
              "    .dataframe thead th {\n",
              "        text-align: right;\n",
              "    }\n",
              "</style>\n",
              "<table border=\"1\" class=\"dataframe\">\n",
              "  <thead>\n",
              "    <tr style=\"text-align: right;\">\n",
              "      <th></th>\n",
              "      <th>Unnamed: 0</th>\n",
              "      <th>age</th>\n",
              "      <th>bmi</th>\n",
              "      <th>children</th>\n",
              "      <th>charges</th>\n",
              "    </tr>\n",
              "  </thead>\n",
              "  <tbody>\n",
              "    <tr>\n",
              "      <th>count</th>\n",
              "      <td>1338.000000</td>\n",
              "      <td>1338.000000</td>\n",
              "      <td>1338.000000</td>\n",
              "      <td>1338.000000</td>\n",
              "      <td>1338.000000</td>\n",
              "    </tr>\n",
              "    <tr>\n",
              "      <th>mean</th>\n",
              "      <td>668.500000</td>\n",
              "      <td>39.207025</td>\n",
              "      <td>30.663572</td>\n",
              "      <td>1.094918</td>\n",
              "      <td>13270.422280</td>\n",
              "    </tr>\n",
              "    <tr>\n",
              "      <th>std</th>\n",
              "      <td>386.391641</td>\n",
              "      <td>14.049960</td>\n",
              "      <td>6.097951</td>\n",
              "      <td>1.205493</td>\n",
              "      <td>12110.011259</td>\n",
              "    </tr>\n",
              "    <tr>\n",
              "      <th>min</th>\n",
              "      <td>0.000000</td>\n",
              "      <td>18.000000</td>\n",
              "      <td>15.960000</td>\n",
              "      <td>0.000000</td>\n",
              "      <td>1121.870000</td>\n",
              "    </tr>\n",
              "    <tr>\n",
              "      <th>25%</th>\n",
              "      <td>334.250000</td>\n",
              "      <td>27.000000</td>\n",
              "      <td>26.297500</td>\n",
              "      <td>0.000000</td>\n",
              "      <td>4740.287500</td>\n",
              "    </tr>\n",
              "    <tr>\n",
              "      <th>50%</th>\n",
              "      <td>668.500000</td>\n",
              "      <td>39.000000</td>\n",
              "      <td>30.400000</td>\n",
              "      <td>1.000000</td>\n",
              "      <td>9382.030000</td>\n",
              "    </tr>\n",
              "    <tr>\n",
              "      <th>75%</th>\n",
              "      <td>1002.750000</td>\n",
              "      <td>51.000000</td>\n",
              "      <td>34.692500</td>\n",
              "      <td>2.000000</td>\n",
              "      <td>16639.915000</td>\n",
              "    </tr>\n",
              "    <tr>\n",
              "      <th>max</th>\n",
              "      <td>1337.000000</td>\n",
              "      <td>64.000000</td>\n",
              "      <td>53.130000</td>\n",
              "      <td>5.000000</td>\n",
              "      <td>63770.430000</td>\n",
              "    </tr>\n",
              "  </tbody>\n",
              "</table>\n",
              "</div>"
            ],
            "text/plain": [
              "        Unnamed: 0          age          bmi     children       charges\n",
              "count  1338.000000  1338.000000  1338.000000  1338.000000   1338.000000\n",
              "mean    668.500000    39.207025    30.663572     1.094918  13270.422280\n",
              "std     386.391641    14.049960     6.097951     1.205493  12110.011259\n",
              "min       0.000000    18.000000    15.960000     0.000000   1121.870000\n",
              "25%     334.250000    27.000000    26.297500     0.000000   4740.287500\n",
              "50%     668.500000    39.000000    30.400000     1.000000   9382.030000\n",
              "75%    1002.750000    51.000000    34.692500     2.000000  16639.915000\n",
              "max    1337.000000    64.000000    53.130000     5.000000  63770.430000"
            ]
          },
          "metadata": {},
          "execution_count": 29
        }
      ]
    },
    {
      "cell_type": "markdown",
      "metadata": {
        "id": "N0OSOnmEcppG"
      },
      "source": [
        "#Describe the Data (with groupby)\n",
        "By using the groupby() function on the dataframe we can compare the descriptive statistics of BMI between each of the values of the \"sex\" field."
      ]
    },
    {
      "cell_type": "code",
      "metadata": {
        "id": "X6Ba4z2GZg8c",
        "colab": {
          "base_uri": "https://localhost:8080/",
          "height": 141
        },
        "outputId": "3eb5fb03-6aa8-4ecd-876e-4e5ec2c66b3f"
      },
      "source": [
        "df.groupby([\"sex\"])['charges'].describe()"
      ],
      "execution_count": 30,
      "outputs": [
        {
          "output_type": "execute_result",
          "data": {
            "text/html": [
              "<div>\n",
              "<style scoped>\n",
              "    .dataframe tbody tr th:only-of-type {\n",
              "        vertical-align: middle;\n",
              "    }\n",
              "\n",
              "    .dataframe tbody tr th {\n",
              "        vertical-align: top;\n",
              "    }\n",
              "\n",
              "    .dataframe thead th {\n",
              "        text-align: right;\n",
              "    }\n",
              "</style>\n",
              "<table border=\"1\" class=\"dataframe\">\n",
              "  <thead>\n",
              "    <tr style=\"text-align: right;\">\n",
              "      <th></th>\n",
              "      <th>count</th>\n",
              "      <th>mean</th>\n",
              "      <th>std</th>\n",
              "      <th>min</th>\n",
              "      <th>25%</th>\n",
              "      <th>50%</th>\n",
              "      <th>75%</th>\n",
              "      <th>max</th>\n",
              "    </tr>\n",
              "    <tr>\n",
              "      <th>sex</th>\n",
              "      <th></th>\n",
              "      <th></th>\n",
              "      <th></th>\n",
              "      <th></th>\n",
              "      <th></th>\n",
              "      <th></th>\n",
              "      <th></th>\n",
              "      <th></th>\n",
              "    </tr>\n",
              "  </thead>\n",
              "  <tbody>\n",
              "    <tr>\n",
              "      <th>female</th>\n",
              "      <td>662.0</td>\n",
              "      <td>12569.578716</td>\n",
              "      <td>11128.703798</td>\n",
              "      <td>1607.51</td>\n",
              "      <td>4885.1625</td>\n",
              "      <td>9412.960</td>\n",
              "      <td>14454.690</td>\n",
              "      <td>63770.43</td>\n",
              "    </tr>\n",
              "    <tr>\n",
              "      <th>male</th>\n",
              "      <td>676.0</td>\n",
              "      <td>13956.751331</td>\n",
              "      <td>12971.025945</td>\n",
              "      <td>1121.87</td>\n",
              "      <td>4619.1350</td>\n",
              "      <td>9369.615</td>\n",
              "      <td>18989.595</td>\n",
              "      <td>62592.87</td>\n",
              "    </tr>\n",
              "  </tbody>\n",
              "</table>\n",
              "</div>"
            ],
            "text/plain": [
              "        count          mean           std  ...       50%        75%       max\n",
              "sex                                        ...                               \n",
              "female  662.0  12569.578716  11128.703798  ...  9412.960  14454.690  63770.43\n",
              "male    676.0  13956.751331  12971.025945  ...  9369.615  18989.595  62592.87\n",
              "\n",
              "[2 rows x 8 columns]"
            ]
          },
          "metadata": {},
          "execution_count": 30
        }
      ]
    },
    {
      "cell_type": "markdown",
      "metadata": {
        "id": "ilHttbiadNPK"
      },
      "source": [
        "#Boxplot\n",
        "By using the boxplot function we can compare BMI between the \"sex\" values.  This graph provides the ability to examine and compare means and interquartile range between the groups.  Additionally, we can find the outliers in the data by looking for the circles on the plot. "
      ]
    },
    {
      "cell_type": "code",
      "metadata": {
        "id": "rjFKd2wBZhpu",
        "colab": {
          "base_uri": "https://localhost:8080/",
          "height": 614
        },
        "outputId": "8d63c4f8-c38d-430e-b7e2-288e055dafc8"
      },
      "source": [
        "df[['sex','bmi']].boxplot(by=\"sex\",figsize=(15, 8))"
      ],
      "execution_count": 31,
      "outputs": [
        {
          "output_type": "stream",
          "name": "stderr",
          "text": [
            "/usr/local/lib/python3.7/dist-packages/numpy/core/_asarray.py:83: VisibleDeprecationWarning: Creating an ndarray from ragged nested sequences (which is a list-or-tuple of lists-or-tuples-or ndarrays with different lengths or shapes) is deprecated. If you meant to do this, you must specify 'dtype=object' when creating the ndarray\n",
            "  return array(a, dtype, copy=False, order=order)\n"
          ]
        },
        {
          "output_type": "execute_result",
          "data": {
            "text/plain": [
              "<matplotlib.axes._subplots.AxesSubplot at 0x7fda156d7990>"
            ]
          },
          "metadata": {},
          "execution_count": 31
        },
        {
          "output_type": "display_data",
          "data": {
            "image/png": "[encoded data removed]",
            "text/plain": [
              "<Figure size 1080x576 with 1 Axes>"
            ]
          },
          "metadata": {
            "needs_background": "light"
          }
        }
      ]
    },
    {
      "cell_type": "markdown",
      "metadata": {
        "id": "2Ik6-ZbzeBDA"
      },
      "source": [
        "#Histogram\n",
        "\n",
        "The histogram plot displays the distribution of a given variable.  "
      ]
    },
    {
      "cell_type": "code",
      "metadata": {
        "id": "42HW0dpMeBs5",
        "colab": {
          "base_uri": "https://localhost:8080/",
          "height": 482
        },
        "outputId": "309dd29d-a9a1-4985-a04a-6a0f18f2de52"
      },
      "source": [
        "ax = df['bmi'].plot.hist(figsize=(15, 8))"
      ],
      "execution_count": 32,
      "outputs": [
        {
          "output_type": "display_data",
          "data": {
            "image/png": "[encoded data removed]",
            "text/plain": [
              "<Figure size 1080x576 with 1 Axes>"
            ]
          },
          "metadata": {
            "needs_background": "light"
          }
        }
      ]
    },
    {
      "cell_type": "markdown",
      "metadata": {
        "id": "ZPGmPXza4Cws"
      },
      "source": [
        "#Lab Task #1: Filtering Columns\n",
        "Filter the Pandas frame so that the resulting dataframe only contains female smokers."
      ]
    },
    {
      "cell_type": "code",
      "metadata": {
        "id": "gOowOEgYeCaA",
        "colab": {
          "base_uri": "https://localhost:8080/",
          "height": 416
        },
        "outputId": "31606f43-713b-4acf-db84-c821e8426f10"
      },
      "source": [
        "df[(df['sex']=='female')&(df['smoker']=='yes')]"
      ],
      "execution_count": 33,
      "outputs": [
        {
          "output_type": "execute_result",
          "data": {
            "text/html": [
              "<div>\n",
              "<style scoped>\n",
              "    .dataframe tbody tr th:only-of-type {\n",
              "        vertical-align: middle;\n",
              "    }\n",
              "\n",
              "    .dataframe tbody tr th {\n",
              "        vertical-align: top;\n",
              "    }\n",
              "\n",
              "    .dataframe thead th {\n",
              "        text-align: right;\n",
              "    }\n",
              "</style>\n",
              "<table border=\"1\" class=\"dataframe\">\n",
              "  <thead>\n",
              "    <tr style=\"text-align: right;\">\n",
              "      <th></th>\n",
              "      <th>Unnamed: 0</th>\n",
              "      <th>age</th>\n",
              "      <th>sex</th>\n",
              "      <th>bmi</th>\n",
              "      <th>children</th>\n",
              "      <th>smoker</th>\n",
              "      <th>region</th>\n",
              "      <th>charges</th>\n",
              "    </tr>\n",
              "  </thead>\n",
              "  <tbody>\n",
              "    <tr>\n",
              "      <th>0</th>\n",
              "      <td>0</td>\n",
              "      <td>19</td>\n",
              "      <td>female</td>\n",
              "      <td>27.90</td>\n",
              "      <td>0</td>\n",
              "      <td>yes</td>\n",
              "      <td>southwest</td>\n",
              "      <td>16884.92</td>\n",
              "    </tr>\n",
              "    <tr>\n",
              "      <th>11</th>\n",
              "      <td>11</td>\n",
              "      <td>62</td>\n",
              "      <td>female</td>\n",
              "      <td>26.29</td>\n",
              "      <td>0</td>\n",
              "      <td>yes</td>\n",
              "      <td>southeast</td>\n",
              "      <td>27808.73</td>\n",
              "    </tr>\n",
              "    <tr>\n",
              "      <th>23</th>\n",
              "      <td>23</td>\n",
              "      <td>34</td>\n",
              "      <td>female</td>\n",
              "      <td>31.92</td>\n",
              "      <td>1</td>\n",
              "      <td>yes</td>\n",
              "      <td>northeast</td>\n",
              "      <td>37701.88</td>\n",
              "    </tr>\n",
              "    <tr>\n",
              "      <th>58</th>\n",
              "      <td>58</td>\n",
              "      <td>53</td>\n",
              "      <td>female</td>\n",
              "      <td>22.88</td>\n",
              "      <td>1</td>\n",
              "      <td>yes</td>\n",
              "      <td>southeast</td>\n",
              "      <td>23244.79</td>\n",
              "    </tr>\n",
              "    <tr>\n",
              "      <th>64</th>\n",
              "      <td>64</td>\n",
              "      <td>20</td>\n",
              "      <td>female</td>\n",
              "      <td>22.42</td>\n",
              "      <td>0</td>\n",
              "      <td>yes</td>\n",
              "      <td>northwest</td>\n",
              "      <td>14711.74</td>\n",
              "    </tr>\n",
              "    <tr>\n",
              "      <th>...</th>\n",
              "      <td>...</td>\n",
              "      <td>...</td>\n",
              "      <td>...</td>\n",
              "      <td>...</td>\n",
              "      <td>...</td>\n",
              "      <td>...</td>\n",
              "      <td>...</td>\n",
              "      <td>...</td>\n",
              "    </tr>\n",
              "    <tr>\n",
              "      <th>1308</th>\n",
              "      <td>1308</td>\n",
              "      <td>25</td>\n",
              "      <td>female</td>\n",
              "      <td>30.20</td>\n",
              "      <td>0</td>\n",
              "      <td>yes</td>\n",
              "      <td>southwest</td>\n",
              "      <td>33900.65</td>\n",
              "    </tr>\n",
              "    <tr>\n",
              "      <th>1313</th>\n",
              "      <td>1313</td>\n",
              "      <td>19</td>\n",
              "      <td>female</td>\n",
              "      <td>34.70</td>\n",
              "      <td>2</td>\n",
              "      <td>yes</td>\n",
              "      <td>southwest</td>\n",
              "      <td>36397.58</td>\n",
              "    </tr>\n",
              "    <tr>\n",
              "      <th>1314</th>\n",
              "      <td>1314</td>\n",
              "      <td>30</td>\n",
              "      <td>female</td>\n",
              "      <td>23.66</td>\n",
              "      <td>3</td>\n",
              "      <td>yes</td>\n",
              "      <td>northwest</td>\n",
              "      <td>18765.88</td>\n",
              "    </tr>\n",
              "    <tr>\n",
              "      <th>1323</th>\n",
              "      <td>1323</td>\n",
              "      <td>42</td>\n",
              "      <td>female</td>\n",
              "      <td>40.37</td>\n",
              "      <td>2</td>\n",
              "      <td>yes</td>\n",
              "      <td>southeast</td>\n",
              "      <td>43896.38</td>\n",
              "    </tr>\n",
              "    <tr>\n",
              "      <th>1337</th>\n",
              "      <td>1337</td>\n",
              "      <td>61</td>\n",
              "      <td>female</td>\n",
              "      <td>29.07</td>\n",
              "      <td>0</td>\n",
              "      <td>yes</td>\n",
              "      <td>northwest</td>\n",
              "      <td>29141.36</td>\n",
              "    </tr>\n",
              "  </tbody>\n",
              "</table>\n",
              "<p>115 rows × 8 columns</p>\n",
              "</div>"
            ],
            "text/plain": [
              "      Unnamed: 0  age     sex    bmi  children smoker     region   charges\n",
              "0              0   19  female  27.90         0    yes  southwest  16884.92\n",
              "11            11   62  female  26.29         0    yes  southeast  27808.73\n",
              "23            23   34  female  31.92         1    yes  northeast  37701.88\n",
              "58            58   53  female  22.88         1    yes  southeast  23244.79\n",
              "64            64   20  female  22.42         0    yes  northwest  14711.74\n",
              "...          ...  ...     ...    ...       ...    ...        ...       ...\n",
              "1308        1308   25  female  30.20         0    yes  southwest  33900.65\n",
              "1313        1313   19  female  34.70         2    yes  southwest  36397.58\n",
              "1314        1314   30  female  23.66         3    yes  northwest  18765.88\n",
              "1323        1323   42  female  40.37         2    yes  southeast  43896.38\n",
              "1337        1337   61  female  29.07         0    yes  northwest  29141.36\n",
              "\n",
              "[115 rows x 8 columns]"
            ]
          },
          "metadata": {},
          "execution_count": 33
        }
      ]
    },
    {
      "cell_type": "markdown",
      "metadata": {
        "id": "9QHWCcPw4Ypw"
      },
      "source": [
        "#Lab Task #2: Descriptive Statistics\n",
        "Compare the desscriptive statistics of medical charges for the smokers versus the non-smokers."
      ]
    },
    {
      "cell_type": "code",
      "metadata": {
        "id": "jB8v6ktl4VL3",
        "colab": {
          "base_uri": "https://localhost:8080/",
          "height": 141
        },
        "outputId": "823c7b26-a588-4401-cc21-c363f06b5266"
      },
      "source": [
        "df.groupby([\"smoker\"])['charges'].describe()"
      ],
      "execution_count": 35,
      "outputs": [
        {
          "output_type": "execute_result",
          "data": {
            "text/html": [
              "<div>\n",
              "<style scoped>\n",
              "    .dataframe tbody tr th:only-of-type {\n",
              "        vertical-align: middle;\n",
              "    }\n",
              "\n",
              "    .dataframe tbody tr th {\n",
              "        vertical-align: top;\n",
              "    }\n",
              "\n",
              "    .dataframe thead th {\n",
              "        text-align: right;\n",
              "    }\n",
              "</style>\n",
              "<table border=\"1\" class=\"dataframe\">\n",
              "  <thead>\n",
              "    <tr style=\"text-align: right;\">\n",
              "      <th></th>\n",
              "      <th>count</th>\n",
              "      <th>mean</th>\n",
              "      <th>std</th>\n",
              "      <th>min</th>\n",
              "      <th>25%</th>\n",
              "      <th>50%</th>\n",
              "      <th>75%</th>\n",
              "      <th>max</th>\n",
              "    </tr>\n",
              "    <tr>\n",
              "      <th>smoker</th>\n",
              "      <th></th>\n",
              "      <th></th>\n",
              "      <th></th>\n",
              "      <th></th>\n",
              "      <th></th>\n",
              "      <th></th>\n",
              "      <th></th>\n",
              "      <th></th>\n",
              "    </tr>\n",
              "  </thead>\n",
              "  <tbody>\n",
              "    <tr>\n",
              "      <th>no</th>\n",
              "      <td>1064.0</td>\n",
              "      <td>8434.268299</td>\n",
              "      <td>5993.781789</td>\n",
              "      <td>1121.87</td>\n",
              "      <td>3986.4425</td>\n",
              "      <td>7345.405</td>\n",
              "      <td>11362.890</td>\n",
              "      <td>36910.61</td>\n",
              "    </tr>\n",
              "    <tr>\n",
              "      <th>yes</th>\n",
              "      <td>274.0</td>\n",
              "      <td>32050.231898</td>\n",
              "      <td>11541.547246</td>\n",
              "      <td>12829.46</td>\n",
              "      <td>20826.2450</td>\n",
              "      <td>34456.350</td>\n",
              "      <td>41019.205</td>\n",
              "      <td>63770.43</td>\n",
              "    </tr>\n",
              "  </tbody>\n",
              "</table>\n",
              "</div>"
            ],
            "text/plain": [
              "         count          mean           std  ...        50%        75%       max\n",
              "smoker                                      ...                                \n",
              "no      1064.0   8434.268299   5993.781789  ...   7345.405  11362.890  36910.61\n",
              "yes      274.0  32050.231898  11541.547246  ...  34456.350  41019.205  63770.43\n",
              "\n",
              "[2 rows x 8 columns]"
            ]
          },
          "metadata": {},
          "execution_count": 35
        }
      ]
    },
    {
      "cell_type": "markdown",
      "metadata": {
        "id": "nPnoGSAG5ZIm"
      },
      "source": [
        "#Lab Task #3: Box Plot\n",
        "Compare BMI of smokers vs. non-smokers using a box plot.\n",
        "\n"
      ]
    },
    {
      "cell_type": "code",
      "metadata": {
        "id": "H7wiIojE5bVb",
        "colab": {
          "base_uri": "https://localhost:8080/",
          "height": 614
        },
        "outputId": "799984f3-64bf-4605-bcd1-01679328e56d"
      },
      "source": [
        "df[['smoker','bmi']].boxplot(by=\"smoker\",figsize=(15, 8))"
      ],
      "execution_count": 38,
      "outputs": [
        {
          "output_type": "stream",
          "name": "stderr",
          "text": [
            "/usr/local/lib/python3.7/dist-packages/numpy/core/_asarray.py:83: VisibleDeprecationWarning: Creating an ndarray from ragged nested sequences (which is a list-or-tuple of lists-or-tuples-or ndarrays with different lengths or shapes) is deprecated. If you meant to do this, you must specify 'dtype=object' when creating the ndarray\n",
            "  return array(a, dtype, copy=False, order=order)\n"
          ]
        },
        {
          "output_type": "execute_result",
          "data": {
            "text/plain": [
              "<matplotlib.axes._subplots.AxesSubplot at 0x7fda153dca90>"
            ]
          },
          "metadata": {},
          "execution_count": 38
        },
        {
          "output_type": "display_data",
          "data": {
            "image/png": "[encoded data removed]",
            "text/plain": [
              "<Figure size 1080x576 with 1 Axes>"
            ]
          },
          "metadata": {
            "needs_background": "light"
          }
        }
      ]
    },
    {
      "cell_type": "markdown",
      "metadata": {
        "id": "WpdTLeqU4_xV"
      },
      "source": [
        "#Questions"
      ]
    },
    {
      "cell_type": "markdown",
      "metadata": {
        "id": "9FplrTcG4HUA"
      },
      "source": [
        "Q1. How many female smokers are in the dataset?\n",
        "\n",
        "115"
      ]
    },
    {
      "cell_type": "markdown",
      "metadata": {
        "id": "JImuYByY4R-_"
      },
      "source": [
        "Q2. What are the mean and standard deviation of BMI for smokers and non-smokers?\n",
        "\n",
        "non-smoker: mean=8434.268299, stddv=5993.781789\n",
        "\n",
        "smoker: mean=32050.231898, stddv=11541.547246\t"
      ]
    },
    {
      "cell_type": "markdown",
      "metadata": {
        "id": "-mIaTYVS1wky"
      },
      "source": [
        "Q3. How many BMI outliers exist in smokers vs non-smokers?\n",
        "\n",
        "8"
      ]
    },
    {
      "cell_type": "markdown",
      "metadata": {
        "id": "TBxTXFmC5I7U"
      },
      "source": [
        "**Email your responses to Questions #1-#3 to your instructor.**"
      ]
    }
  ]
}