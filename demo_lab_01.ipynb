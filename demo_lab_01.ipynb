{
  "nbformat": 4,
  "nbformat_minor": 0,
  "metadata": {
    "colab": {
      "name": "demo_lab_01.ipynb",
      "provenance": [],
      "authorship_tag": "ABX9TyMQYFMUr10pFD/eeuKYorUP",
      "include_colab_link": true
    },
    "kernelspec": {
      "name": "python3",
      "display_name": "Python 3"
    },
    "language_info": {
      "name": "python"
    }
  },
  "cells": [
    {
      "cell_type": "markdown",
      "metadata": {
        "id": "view-in-github",
        "colab_type": "text"
      },
      "source": [
        "<a href=\"https://colab.research.google.com/github/uofldmlab/IntroDMLab/blob/main/demo_lab_01.ipynb\" target=\"_parent\"><img src=\"https://colab.research.google.com/assets/colab-badge.svg\" alt=\"Open In Colab\"/></a>"
      ]
    },
    {
      "cell_type": "markdown",
      "metadata": {
        "id": "rfqvmlXSbGdh"
      },
      "source": [
        "#Lab #01: Exploring Data"
      ]
    },
    {
      "cell_type": "markdown",
      "metadata": {
        "id": "J1ditK15b3Lw"
      },
      "source": [
        "*Click the Google Colab image at the top of the page to launch the lab in Google Colab:*![screenshot-2021-09-08-9-15-39- (1).png](data:image/png;base64,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)\n",
        "\n",
        "The following link provides a brief tutorial on how to use Google Colab: [https://www.youtube.com/watch?v=inN8seMm7UI&ab_channel=TensorFlow](https://www.youtube.com/watch?v=inN8seMm7UI&ab_channel=TensorFlow)\n",
        "\n",
        "# Import Python Libraries\n",
        "\n",
        "Importing Python libraries extend data-type and function capabilites that are outside the core Python language. The Pandas library is a Python library that is is widely used to open, view, manipulate, and analyze data."
      ]
    },
    {
      "cell_type": "code",
      "metadata": {
        "id": "GRn0VPvi-uNP"
      },
      "source": [
        "import pandas as pd #import pandas"
      ],
      "execution_count": 1,
      "outputs": []
    },
    {
      "cell_type": "markdown",
      "metadata": {
        "id": "szqQy7nFcBLl"
      },
      "source": [
        "# Open Data\n",
        "We will use the pandas read_csv() function to import a CSV file from a URL and store the data into a Pandas dataframe.\n"
      ]
    },
    {
      "cell_type": "code",
      "metadata": {
        "id": "c0qA3Ovm-wp8"
      },
      "source": [
        "#open datafile and store into Pandas dataframe\n",
        "df = pd.read_csv(\"https://raw.githubusercontent.com/uofldmlab/IntroDMLab/main/insurance.csv\")"
      ],
      "execution_count": 2,
      "outputs": []
    },
    {
      "cell_type": "markdown",
      "metadata": {
        "id": "hwglUpzwFWd1"
      },
      "source": [
        "#Data Types\n",
        "The dtypes attribute of the Pandas dataframe provides the datatypes of each of the fields in the dataframe"
      ]
    },
    {
      "cell_type": "code",
      "metadata": {
        "colab": {
          "base_uri": "https://localhost:8080/"
        },
        "id": "Xs_ECCa6FZwv",
        "outputId": "a8ae3071-a5bb-4561-81c9-a61c2862949c"
      },
      "source": [
        "df.dtypes"
      ],
      "execution_count": 3,
      "outputs": [
        {
          "output_type": "execute_result",
          "data": {
            "text/plain": [
              "age           int64\n",
              "sex          object\n",
              "bmi         float64\n",
              "children      int64\n",
              "smoker       object\n",
              "region       object\n",
              "charges     float64\n",
              "dtype: object"
            ]
          },
          "metadata": {},
          "execution_count": 3
        }
      ]
    },
    {
      "cell_type": "markdown",
      "metadata": {
        "id": "4FlJvKWBcLmo"
      },
      "source": [
        "#Display Data\n",
        "The Pandas dataframe provides a data structure of rows and columns of the dataset we read in. The *head()* function is used to display the first few rows of the dataframe."
      ]
    },
    {
      "cell_type": "code",
      "metadata": {
        "colab": {
          "base_uri": "https://localhost:8080/",
          "height": 202
        },
        "id": "SuQiVREGBU_z",
        "outputId": "be54a5d2-38ff-46eb-c12f-ac77db7b5499"
      },
      "source": [
        "df.head()"
      ],
      "execution_count": 4,
      "outputs": [
        {
          "output_type": "execute_result",
          "data": {
            "text/html": [
              "<div>\n",
              "<style scoped>\n",
              "    .dataframe tbody tr th:only-of-type {\n",
              "        vertical-align: middle;\n",
              "    }\n",
              "\n",
              "    .dataframe tbody tr th {\n",
              "        vertical-align: top;\n",
              "    }\n",
              "\n",
              "    .dataframe thead th {\n",
              "        text-align: right;\n",
              "    }\n",
              "</style>\n",
              "<table border=\"1\" class=\"dataframe\">\n",
              "  <thead>\n",
              "    <tr style=\"text-align: right;\">\n",
              "      <th></th>\n",
              "      <th>age</th>\n",
              "      <th>sex</th>\n",
              "      <th>bmi</th>\n",
              "      <th>children</th>\n",
              "      <th>smoker</th>\n",
              "      <th>region</th>\n",
              "      <th>charges</th>\n",
              "    </tr>\n",
              "  </thead>\n",
              "  <tbody>\n",
              "    <tr>\n",
              "      <th>0</th>\n",
              "      <td>19</td>\n",
              "      <td>female</td>\n",
              "      <td>27.900</td>\n",
              "      <td>0</td>\n",
              "      <td>yes</td>\n",
              "      <td>southwest</td>\n",
              "      <td>16884.92400</td>\n",
              "    </tr>\n",
              "    <tr>\n",
              "      <th>1</th>\n",
              "      <td>18</td>\n",
              "      <td>male</td>\n",
              "      <td>33.770</td>\n",
              "      <td>1</td>\n",
              "      <td>no</td>\n",
              "      <td>southeast</td>\n",
              "      <td>1725.55230</td>\n",
              "    </tr>\n",
              "    <tr>\n",
              "      <th>2</th>\n",
              "      <td>28</td>\n",
              "      <td>male</td>\n",
              "      <td>33.000</td>\n",
              "      <td>3</td>\n",
              "      <td>no</td>\n",
              "      <td>southeast</td>\n",
              "      <td>4449.46200</td>\n",
              "    </tr>\n",
              "    <tr>\n",
              "      <th>3</th>\n",
              "      <td>33</td>\n",
              "      <td>male</td>\n",
              "      <td>22.705</td>\n",
              "      <td>0</td>\n",
              "      <td>no</td>\n",
              "      <td>northwest</td>\n",
              "      <td>21984.47061</td>\n",
              "    </tr>\n",
              "    <tr>\n",
              "      <th>4</th>\n",
              "      <td>32</td>\n",
              "      <td>male</td>\n",
              "      <td>28.880</td>\n",
              "      <td>0</td>\n",
              "      <td>no</td>\n",
              "      <td>northwest</td>\n",
              "      <td>3866.85520</td>\n",
              "    </tr>\n",
              "  </tbody>\n",
              "</table>\n",
              "</div>"
            ],
            "text/plain": [
              "   age     sex     bmi  children smoker     region      charges\n",
              "0   19  female  27.900         0    yes  southwest  16884.92400\n",
              "1   18    male  33.770         1     no  southeast   1725.55230\n",
              "2   28    male  33.000         3     no  southeast   4449.46200\n",
              "3   33    male  22.705         0     no  northwest  21984.47061\n",
              "4   32    male  28.880         0     no  northwest   3866.85520"
            ]
          },
          "metadata": {},
          "execution_count": 4
        }
      ]
    },
    {
      "cell_type": "markdown",
      "metadata": {
        "id": "2plImd0OcLFs"
      },
      "source": [
        "By default the *head()* function will display the 5 rows of the dataframe, but additional rows can be displayed by supplying the desired number of rows as a parameter."
      ]
    },
    {
      "cell_type": "code",
      "metadata": {
        "id": "dVenq0O8cL1B",
        "outputId": "9bbf4e79-33b8-4637-ddac-848ed2f94e42",
        "colab": {
          "base_uri": "https://localhost:8080/",
          "height": 356
        }
      },
      "source": [
        "df.head(10)"
      ],
      "execution_count": 14,
      "outputs": [
        {
          "output_type": "execute_result",
          "data": {
            "text/html": [
              "<div>\n",
              "<style scoped>\n",
              "    .dataframe tbody tr th:only-of-type {\n",
              "        vertical-align: middle;\n",
              "    }\n",
              "\n",
              "    .dataframe tbody tr th {\n",
              "        vertical-align: top;\n",
              "    }\n",
              "\n",
              "    .dataframe thead th {\n",
              "        text-align: right;\n",
              "    }\n",
              "</style>\n",
              "<table border=\"1\" class=\"dataframe\">\n",
              "  <thead>\n",
              "    <tr style=\"text-align: right;\">\n",
              "      <th></th>\n",
              "      <th>age</th>\n",
              "      <th>sex</th>\n",
              "      <th>bmi</th>\n",
              "      <th>children</th>\n",
              "      <th>smoker</th>\n",
              "      <th>region</th>\n",
              "      <th>charges</th>\n",
              "    </tr>\n",
              "  </thead>\n",
              "  <tbody>\n",
              "    <tr>\n",
              "      <th>0</th>\n",
              "      <td>19</td>\n",
              "      <td>female</td>\n",
              "      <td>27.900</td>\n",
              "      <td>0</td>\n",
              "      <td>yes</td>\n",
              "      <td>southwest</td>\n",
              "      <td>16884.92400</td>\n",
              "    </tr>\n",
              "    <tr>\n",
              "      <th>1</th>\n",
              "      <td>18</td>\n",
              "      <td>male</td>\n",
              "      <td>33.770</td>\n",
              "      <td>1</td>\n",
              "      <td>no</td>\n",
              "      <td>southeast</td>\n",
              "      <td>1725.55230</td>\n",
              "    </tr>\n",
              "    <tr>\n",
              "      <th>2</th>\n",
              "      <td>28</td>\n",
              "      <td>male</td>\n",
              "      <td>33.000</td>\n",
              "      <td>3</td>\n",
              "      <td>no</td>\n",
              "      <td>southeast</td>\n",
              "      <td>4449.46200</td>\n",
              "    </tr>\n",
              "    <tr>\n",
              "      <th>3</th>\n",
              "      <td>33</td>\n",
              "      <td>male</td>\n",
              "      <td>22.705</td>\n",
              "      <td>0</td>\n",
              "      <td>no</td>\n",
              "      <td>northwest</td>\n",
              "      <td>21984.47061</td>\n",
              "    </tr>\n",
              "    <tr>\n",
              "      <th>4</th>\n",
              "      <td>32</td>\n",
              "      <td>male</td>\n",
              "      <td>28.880</td>\n",
              "      <td>0</td>\n",
              "      <td>no</td>\n",
              "      <td>northwest</td>\n",
              "      <td>3866.85520</td>\n",
              "    </tr>\n",
              "    <tr>\n",
              "      <th>5</th>\n",
              "      <td>31</td>\n",
              "      <td>female</td>\n",
              "      <td>25.740</td>\n",
              "      <td>0</td>\n",
              "      <td>no</td>\n",
              "      <td>southeast</td>\n",
              "      <td>3756.62160</td>\n",
              "    </tr>\n",
              "    <tr>\n",
              "      <th>6</th>\n",
              "      <td>46</td>\n",
              "      <td>female</td>\n",
              "      <td>33.440</td>\n",
              "      <td>1</td>\n",
              "      <td>no</td>\n",
              "      <td>southeast</td>\n",
              "      <td>8240.58960</td>\n",
              "    </tr>\n",
              "    <tr>\n",
              "      <th>7</th>\n",
              "      <td>37</td>\n",
              "      <td>female</td>\n",
              "      <td>27.740</td>\n",
              "      <td>3</td>\n",
              "      <td>no</td>\n",
              "      <td>northwest</td>\n",
              "      <td>7281.50560</td>\n",
              "    </tr>\n",
              "    <tr>\n",
              "      <th>8</th>\n",
              "      <td>37</td>\n",
              "      <td>male</td>\n",
              "      <td>29.830</td>\n",
              "      <td>2</td>\n",
              "      <td>no</td>\n",
              "      <td>northeast</td>\n",
              "      <td>6406.41070</td>\n",
              "    </tr>\n",
              "    <tr>\n",
              "      <th>9</th>\n",
              "      <td>60</td>\n",
              "      <td>female</td>\n",
              "      <td>25.840</td>\n",
              "      <td>0</td>\n",
              "      <td>no</td>\n",
              "      <td>northwest</td>\n",
              "      <td>28923.13692</td>\n",
              "    </tr>\n",
              "  </tbody>\n",
              "</table>\n",
              "</div>"
            ],
            "text/plain": [
              "   age     sex     bmi  children smoker     region      charges\n",
              "0   19  female  27.900         0    yes  southwest  16884.92400\n",
              "1   18    male  33.770         1     no  southeast   1725.55230\n",
              "2   28    male  33.000         3     no  southeast   4449.46200\n",
              "3   33    male  22.705         0     no  northwest  21984.47061\n",
              "4   32    male  28.880         0     no  northwest   3866.85520\n",
              "5   31  female  25.740         0     no  southeast   3756.62160\n",
              "6   46  female  33.440         1     no  southeast   8240.58960\n",
              "7   37  female  27.740         3     no  northwest   7281.50560\n",
              "8   37    male  29.830         2     no  northeast   6406.41070\n",
              "9   60  female  25.840         0     no  northwest  28923.13692"
            ]
          },
          "metadata": {},
          "execution_count": 14
        }
      ]
    },
    {
      "cell_type": "markdown",
      "metadata": {
        "id": "72QhiMsVcPpo"
      },
      "source": [
        "Only desired columns can be displayed by supplying column names."
      ]
    },
    {
      "cell_type": "code",
      "metadata": {
        "id": "qROkoFBecQba",
        "outputId": "19ce9dd3-936e-4dbc-946d-b2c6840ce730",
        "colab": {
          "base_uri": "https://localhost:8080/",
          "height": 202
        }
      },
      "source": [
        "df[['age','bmi']].head()"
      ],
      "execution_count": 15,
      "outputs": [
        {
          "output_type": "execute_result",
          "data": {
            "text/html": [
              "<div>\n",
              "<style scoped>\n",
              "    .dataframe tbody tr th:only-of-type {\n",
              "        vertical-align: middle;\n",
              "    }\n",
              "\n",
              "    .dataframe tbody tr th {\n",
              "        vertical-align: top;\n",
              "    }\n",
              "\n",
              "    .dataframe thead th {\n",
              "        text-align: right;\n",
              "    }\n",
              "</style>\n",
              "<table border=\"1\" class=\"dataframe\">\n",
              "  <thead>\n",
              "    <tr style=\"text-align: right;\">\n",
              "      <th></th>\n",
              "      <th>age</th>\n",
              "      <th>bmi</th>\n",
              "    </tr>\n",
              "  </thead>\n",
              "  <tbody>\n",
              "    <tr>\n",
              "      <th>0</th>\n",
              "      <td>19</td>\n",
              "      <td>27.900</td>\n",
              "    </tr>\n",
              "    <tr>\n",
              "      <th>1</th>\n",
              "      <td>18</td>\n",
              "      <td>33.770</td>\n",
              "    </tr>\n",
              "    <tr>\n",
              "      <th>2</th>\n",
              "      <td>28</td>\n",
              "      <td>33.000</td>\n",
              "    </tr>\n",
              "    <tr>\n",
              "      <th>3</th>\n",
              "      <td>33</td>\n",
              "      <td>22.705</td>\n",
              "    </tr>\n",
              "    <tr>\n",
              "      <th>4</th>\n",
              "      <td>32</td>\n",
              "      <td>28.880</td>\n",
              "    </tr>\n",
              "  </tbody>\n",
              "</table>\n",
              "</div>"
            ],
            "text/plain": [
              "   age     bmi\n",
              "0   19  27.900\n",
              "1   18  33.770\n",
              "2   28  33.000\n",
              "3   33  22.705\n",
              "4   32  28.880"
            ]
          },
          "metadata": {},
          "execution_count": 15
        }
      ]
    },
    {
      "cell_type": "markdown",
      "metadata": {
        "id": "2-jOL2xIDNZp"
      },
      "source": [
        "#Dataframe Size\n",
        "The shape attribute of the Pandas dataframe provides the number of rows and columns within the dataframe (rows, columns)."
      ]
    },
    {
      "cell_type": "code",
      "metadata": {
        "colab": {
          "base_uri": "https://localhost:8080/"
        },
        "id": "1rvsmWz5DTNn",
        "outputId": "4a8a80cc-214d-4119-ecc6-340d5cbe9dba"
      },
      "source": [
        "df.shape"
      ],
      "execution_count": 16,
      "outputs": [
        {
          "output_type": "execute_result",
          "data": {
            "text/plain": [
              "(1338, 7)"
            ]
          },
          "metadata": {},
          "execution_count": 16
        }
      ]
    },
    {
      "cell_type": "markdown",
      "metadata": {
        "id": "qRfk7AkEcgUj"
      },
      "source": [
        "#Filtering Data\n",
        "\n",
        "Select rows can be filtered.  For instance is we only wanted to display only the rows where the sex=='male'. "
      ]
    },
    {
      "cell_type": "code",
      "metadata": {
        "id": "4WzD2Qhfcg1T",
        "outputId": "9705f2fa-e395-4f25-fde0-878f1e837551",
        "colab": {
          "base_uri": "https://localhost:8080/",
          "height": 416
        }
      },
      "source": [
        "df[df['sex']=='male']"
      ],
      "execution_count": 7,
      "outputs": [
        {
          "output_type": "execute_result",
          "data": {
            "text/html": [
              "<div>\n",
              "<style scoped>\n",
              "    .dataframe tbody tr th:only-of-type {\n",
              "        vertical-align: middle;\n",
              "    }\n",
              "\n",
              "    .dataframe tbody tr th {\n",
              "        vertical-align: top;\n",
              "    }\n",
              "\n",
              "    .dataframe thead th {\n",
              "        text-align: right;\n",
              "    }\n",
              "</style>\n",
              "<table border=\"1\" class=\"dataframe\">\n",
              "  <thead>\n",
              "    <tr style=\"text-align: right;\">\n",
              "      <th></th>\n",
              "      <th>age</th>\n",
              "      <th>sex</th>\n",
              "      <th>bmi</th>\n",
              "      <th>children</th>\n",
              "      <th>smoker</th>\n",
              "      <th>region</th>\n",
              "      <th>charges</th>\n",
              "    </tr>\n",
              "  </thead>\n",
              "  <tbody>\n",
              "    <tr>\n",
              "      <th>1</th>\n",
              "      <td>18</td>\n",
              "      <td>male</td>\n",
              "      <td>33.770</td>\n",
              "      <td>1</td>\n",
              "      <td>no</td>\n",
              "      <td>southeast</td>\n",
              "      <td>1725.55230</td>\n",
              "    </tr>\n",
              "    <tr>\n",
              "      <th>2</th>\n",
              "      <td>28</td>\n",
              "      <td>male</td>\n",
              "      <td>33.000</td>\n",
              "      <td>3</td>\n",
              "      <td>no</td>\n",
              "      <td>southeast</td>\n",
              "      <td>4449.46200</td>\n",
              "    </tr>\n",
              "    <tr>\n",
              "      <th>3</th>\n",
              "      <td>33</td>\n",
              "      <td>male</td>\n",
              "      <td>22.705</td>\n",
              "      <td>0</td>\n",
              "      <td>no</td>\n",
              "      <td>northwest</td>\n",
              "      <td>21984.47061</td>\n",
              "    </tr>\n",
              "    <tr>\n",
              "      <th>4</th>\n",
              "      <td>32</td>\n",
              "      <td>male</td>\n",
              "      <td>28.880</td>\n",
              "      <td>0</td>\n",
              "      <td>no</td>\n",
              "      <td>northwest</td>\n",
              "      <td>3866.85520</td>\n",
              "    </tr>\n",
              "    <tr>\n",
              "      <th>8</th>\n",
              "      <td>37</td>\n",
              "      <td>male</td>\n",
              "      <td>29.830</td>\n",
              "      <td>2</td>\n",
              "      <td>no</td>\n",
              "      <td>northeast</td>\n",
              "      <td>6406.41070</td>\n",
              "    </tr>\n",
              "    <tr>\n",
              "      <th>...</th>\n",
              "      <td>...</td>\n",
              "      <td>...</td>\n",
              "      <td>...</td>\n",
              "      <td>...</td>\n",
              "      <td>...</td>\n",
              "      <td>...</td>\n",
              "      <td>...</td>\n",
              "    </tr>\n",
              "    <tr>\n",
              "      <th>1324</th>\n",
              "      <td>31</td>\n",
              "      <td>male</td>\n",
              "      <td>25.935</td>\n",
              "      <td>1</td>\n",
              "      <td>no</td>\n",
              "      <td>northwest</td>\n",
              "      <td>4239.89265</td>\n",
              "    </tr>\n",
              "    <tr>\n",
              "      <th>1325</th>\n",
              "      <td>61</td>\n",
              "      <td>male</td>\n",
              "      <td>33.535</td>\n",
              "      <td>0</td>\n",
              "      <td>no</td>\n",
              "      <td>northeast</td>\n",
              "      <td>13143.33665</td>\n",
              "    </tr>\n",
              "    <tr>\n",
              "      <th>1327</th>\n",
              "      <td>51</td>\n",
              "      <td>male</td>\n",
              "      <td>30.030</td>\n",
              "      <td>1</td>\n",
              "      <td>no</td>\n",
              "      <td>southeast</td>\n",
              "      <td>9377.90470</td>\n",
              "    </tr>\n",
              "    <tr>\n",
              "      <th>1329</th>\n",
              "      <td>52</td>\n",
              "      <td>male</td>\n",
              "      <td>38.600</td>\n",
              "      <td>2</td>\n",
              "      <td>no</td>\n",
              "      <td>southwest</td>\n",
              "      <td>10325.20600</td>\n",
              "    </tr>\n",
              "    <tr>\n",
              "      <th>1333</th>\n",
              "      <td>50</td>\n",
              "      <td>male</td>\n",
              "      <td>30.970</td>\n",
              "      <td>3</td>\n",
              "      <td>no</td>\n",
              "      <td>northwest</td>\n",
              "      <td>10600.54830</td>\n",
              "    </tr>\n",
              "  </tbody>\n",
              "</table>\n",
              "<p>676 rows × 7 columns</p>\n",
              "</div>"
            ],
            "text/plain": [
              "      age   sex     bmi  children smoker     region      charges\n",
              "1      18  male  33.770         1     no  southeast   1725.55230\n",
              "2      28  male  33.000         3     no  southeast   4449.46200\n",
              "3      33  male  22.705         0     no  northwest  21984.47061\n",
              "4      32  male  28.880         0     no  northwest   3866.85520\n",
              "8      37  male  29.830         2     no  northeast   6406.41070\n",
              "...   ...   ...     ...       ...    ...        ...          ...\n",
              "1324   31  male  25.935         1     no  northwest   4239.89265\n",
              "1325   61  male  33.535         0     no  northeast  13143.33665\n",
              "1327   51  male  30.030         1     no  southeast   9377.90470\n",
              "1329   52  male  38.600         2     no  southwest  10325.20600\n",
              "1333   50  male  30.970         3     no  northwest  10600.54830\n",
              "\n",
              "[676 rows x 7 columns]"
            ]
          },
          "metadata": {},
          "execution_count": 7
        }
      ]
    },
    {
      "cell_type": "markdown",
      "metadata": {
        "id": "P_A7pHdLdG-_"
      },
      "source": [
        "The following shows how to display records where the charges were less than $2,000. Standard boolean operators can be used here (==, !=, <=, >=, <, >)"
      ]
    },
    {
      "cell_type": "code",
      "metadata": {
        "id": "-U6rfy6kcp89",
        "outputId": "486c4de1-b497-4cd7-a04a-2398ed95e4d4",
        "colab": {
          "base_uri": "https://localhost:8080/",
          "height": 416
        }
      },
      "source": [
        "df[df['charges']<2000]"
      ],
      "execution_count": 17,
      "outputs": [
        {
          "output_type": "execute_result",
          "data": {
            "text/html": [
              "<div>\n",
              "<style scoped>\n",
              "    .dataframe tbody tr th:only-of-type {\n",
              "        vertical-align: middle;\n",
              "    }\n",
              "\n",
              "    .dataframe tbody tr th {\n",
              "        vertical-align: top;\n",
              "    }\n",
              "\n",
              "    .dataframe thead th {\n",
              "        text-align: right;\n",
              "    }\n",
              "</style>\n",
              "<table border=\"1\" class=\"dataframe\">\n",
              "  <thead>\n",
              "    <tr style=\"text-align: right;\">\n",
              "      <th></th>\n",
              "      <th>age</th>\n",
              "      <th>sex</th>\n",
              "      <th>bmi</th>\n",
              "      <th>children</th>\n",
              "      <th>smoker</th>\n",
              "      <th>region</th>\n",
              "      <th>charges</th>\n",
              "    </tr>\n",
              "  </thead>\n",
              "  <tbody>\n",
              "    <tr>\n",
              "      <th>1</th>\n",
              "      <td>18</td>\n",
              "      <td>male</td>\n",
              "      <td>33.770</td>\n",
              "      <td>1</td>\n",
              "      <td>no</td>\n",
              "      <td>southeast</td>\n",
              "      <td>1725.55230</td>\n",
              "    </tr>\n",
              "    <tr>\n",
              "      <th>12</th>\n",
              "      <td>23</td>\n",
              "      <td>male</td>\n",
              "      <td>34.400</td>\n",
              "      <td>0</td>\n",
              "      <td>no</td>\n",
              "      <td>southwest</td>\n",
              "      <td>1826.84300</td>\n",
              "    </tr>\n",
              "    <tr>\n",
              "      <th>15</th>\n",
              "      <td>19</td>\n",
              "      <td>male</td>\n",
              "      <td>24.600</td>\n",
              "      <td>1</td>\n",
              "      <td>no</td>\n",
              "      <td>southwest</td>\n",
              "      <td>1837.23700</td>\n",
              "    </tr>\n",
              "    <tr>\n",
              "      <th>22</th>\n",
              "      <td>18</td>\n",
              "      <td>male</td>\n",
              "      <td>34.100</td>\n",
              "      <td>0</td>\n",
              "      <td>no</td>\n",
              "      <td>southeast</td>\n",
              "      <td>1137.01100</td>\n",
              "    </tr>\n",
              "    <tr>\n",
              "      <th>35</th>\n",
              "      <td>19</td>\n",
              "      <td>male</td>\n",
              "      <td>20.425</td>\n",
              "      <td>0</td>\n",
              "      <td>no</td>\n",
              "      <td>northwest</td>\n",
              "      <td>1625.43375</td>\n",
              "    </tr>\n",
              "    <tr>\n",
              "      <th>...</th>\n",
              "      <td>...</td>\n",
              "      <td>...</td>\n",
              "      <td>...</td>\n",
              "      <td>...</td>\n",
              "      <td>...</td>\n",
              "      <td>...</td>\n",
              "      <td>...</td>\n",
              "    </tr>\n",
              "    <tr>\n",
              "      <th>1295</th>\n",
              "      <td>20</td>\n",
              "      <td>male</td>\n",
              "      <td>22.000</td>\n",
              "      <td>1</td>\n",
              "      <td>no</td>\n",
              "      <td>southwest</td>\n",
              "      <td>1964.78000</td>\n",
              "    </tr>\n",
              "    <tr>\n",
              "      <th>1296</th>\n",
              "      <td>18</td>\n",
              "      <td>male</td>\n",
              "      <td>26.125</td>\n",
              "      <td>0</td>\n",
              "      <td>no</td>\n",
              "      <td>northeast</td>\n",
              "      <td>1708.92575</td>\n",
              "    </tr>\n",
              "    <tr>\n",
              "      <th>1316</th>\n",
              "      <td>19</td>\n",
              "      <td>female</td>\n",
              "      <td>20.600</td>\n",
              "      <td>0</td>\n",
              "      <td>no</td>\n",
              "      <td>southwest</td>\n",
              "      <td>1731.67700</td>\n",
              "    </tr>\n",
              "    <tr>\n",
              "      <th>1317</th>\n",
              "      <td>18</td>\n",
              "      <td>male</td>\n",
              "      <td>53.130</td>\n",
              "      <td>0</td>\n",
              "      <td>no</td>\n",
              "      <td>southeast</td>\n",
              "      <td>1163.46270</td>\n",
              "    </tr>\n",
              "    <tr>\n",
              "      <th>1335</th>\n",
              "      <td>18</td>\n",
              "      <td>female</td>\n",
              "      <td>36.850</td>\n",
              "      <td>0</td>\n",
              "      <td>no</td>\n",
              "      <td>southeast</td>\n",
              "      <td>1629.83350</td>\n",
              "    </tr>\n",
              "  </tbody>\n",
              "</table>\n",
              "<p>92 rows × 7 columns</p>\n",
              "</div>"
            ],
            "text/plain": [
              "      age     sex     bmi  children smoker     region     charges\n",
              "1      18    male  33.770         1     no  southeast  1725.55230\n",
              "12     23    male  34.400         0     no  southwest  1826.84300\n",
              "15     19    male  24.600         1     no  southwest  1837.23700\n",
              "22     18    male  34.100         0     no  southeast  1137.01100\n",
              "35     19    male  20.425         0     no  northwest  1625.43375\n",
              "...   ...     ...     ...       ...    ...        ...         ...\n",
              "1295   20    male  22.000         1     no  southwest  1964.78000\n",
              "1296   18    male  26.125         0     no  northeast  1708.92575\n",
              "1316   19  female  20.600         0     no  southwest  1731.67700\n",
              "1317   18    male  53.130         0     no  southeast  1163.46270\n",
              "1335   18  female  36.850         0     no  southeast  1629.83350\n",
              "\n",
              "[92 rows x 7 columns]"
            ]
          },
          "metadata": {},
          "execution_count": 17
        }
      ]
    },
    {
      "cell_type": "markdown",
      "metadata": {
        "id": "v75w0LaadaRa"
      },
      "source": [
        "Use the len() function to count the number of rows.  We can also use and(&)/or(|) logic.\n",
        "\n",
        "How many men are younger than 19 in the dataset?"
      ]
    },
    {
      "cell_type": "code",
      "metadata": {
        "id": "jb6xqSWAc4h2",
        "outputId": "d078a6bc-ab7c-4820-dc41-1a81df1ddff3",
        "colab": {
          "base_uri": "https://localhost:8080/"
        }
      },
      "source": [
        "len(df[(df['sex']=='male')&(df['age']<19)])"
      ],
      "execution_count": 19,
      "outputs": [
        {
          "output_type": "execute_result",
          "data": {
            "text/plain": [
              "36"
            ]
          },
          "metadata": {},
          "execution_count": 19
        }
      ]
    },
    {
      "cell_type": "markdown",
      "metadata": {
        "id": "h9DXglILcW8I"
      },
      "source": [
        "#Descibe the Data\n",
        "The describe() function of the Pandas dataframe provides the numeric descriptive statistics of all of the numeric columns."
      ]
    },
    {
      "cell_type": "code",
      "metadata": {
        "colab": {
          "base_uri": "https://localhost:8080/",
          "height": 295
        },
        "id": "5Z8BKG4PZgl2",
        "outputId": "d6c04936-6410-431f-9d14-454f3c893545"
      },
      "source": [
        "df.describe()"
      ],
      "execution_count": 20,
      "outputs": [
        {
          "output_type": "execute_result",
          "data": {
            "text/html": [
              "<div>\n",
              "<style scoped>\n",
              "    .dataframe tbody tr th:only-of-type {\n",
              "        vertical-align: middle;\n",
              "    }\n",
              "\n",
              "    .dataframe tbody tr th {\n",
              "        vertical-align: top;\n",
              "    }\n",
              "\n",
              "    .dataframe thead th {\n",
              "        text-align: right;\n",
              "    }\n",
              "</style>\n",
              "<table border=\"1\" class=\"dataframe\">\n",
              "  <thead>\n",
              "    <tr style=\"text-align: right;\">\n",
              "      <th></th>\n",
              "      <th>age</th>\n",
              "      <th>bmi</th>\n",
              "      <th>children</th>\n",
              "      <th>charges</th>\n",
              "    </tr>\n",
              "  </thead>\n",
              "  <tbody>\n",
              "    <tr>\n",
              "      <th>count</th>\n",
              "      <td>1338.000000</td>\n",
              "      <td>1338.000000</td>\n",
              "      <td>1338.000000</td>\n",
              "      <td>1338.000000</td>\n",
              "    </tr>\n",
              "    <tr>\n",
              "      <th>mean</th>\n",
              "      <td>39.207025</td>\n",
              "      <td>30.663397</td>\n",
              "      <td>1.094918</td>\n",
              "      <td>13270.422265</td>\n",
              "    </tr>\n",
              "    <tr>\n",
              "      <th>std</th>\n",
              "      <td>14.049960</td>\n",
              "      <td>6.098187</td>\n",
              "      <td>1.205493</td>\n",
              "      <td>12110.011237</td>\n",
              "    </tr>\n",
              "    <tr>\n",
              "      <th>min</th>\n",
              "      <td>18.000000</td>\n",
              "      <td>15.960000</td>\n",
              "      <td>0.000000</td>\n",
              "      <td>1121.873900</td>\n",
              "    </tr>\n",
              "    <tr>\n",
              "      <th>25%</th>\n",
              "      <td>27.000000</td>\n",
              "      <td>26.296250</td>\n",
              "      <td>0.000000</td>\n",
              "      <td>4740.287150</td>\n",
              "    </tr>\n",
              "    <tr>\n",
              "      <th>50%</th>\n",
              "      <td>39.000000</td>\n",
              "      <td>30.400000</td>\n",
              "      <td>1.000000</td>\n",
              "      <td>9382.033000</td>\n",
              "    </tr>\n",
              "    <tr>\n",
              "      <th>75%</th>\n",
              "      <td>51.000000</td>\n",
              "      <td>34.693750</td>\n",
              "      <td>2.000000</td>\n",
              "      <td>16639.912515</td>\n",
              "    </tr>\n",
              "    <tr>\n",
              "      <th>max</th>\n",
              "      <td>64.000000</td>\n",
              "      <td>53.130000</td>\n",
              "      <td>5.000000</td>\n",
              "      <td>63770.428010</td>\n",
              "    </tr>\n",
              "  </tbody>\n",
              "</table>\n",
              "</div>"
            ],
            "text/plain": [
              "               age          bmi     children       charges\n",
              "count  1338.000000  1338.000000  1338.000000   1338.000000\n",
              "mean     39.207025    30.663397     1.094918  13270.422265\n",
              "std      14.049960     6.098187     1.205493  12110.011237\n",
              "min      18.000000    15.960000     0.000000   1121.873900\n",
              "25%      27.000000    26.296250     0.000000   4740.287150\n",
              "50%      39.000000    30.400000     1.000000   9382.033000\n",
              "75%      51.000000    34.693750     2.000000  16639.912515\n",
              "max      64.000000    53.130000     5.000000  63770.428010"
            ]
          },
          "metadata": {},
          "execution_count": 20
        }
      ]
    },
    {
      "cell_type": "markdown",
      "metadata": {
        "id": "N0OSOnmEcppG"
      },
      "source": [
        "#Descibe the Data (with groupby)\n",
        "By using the groupby() function on the dataframe we can compare the descriptive statistics of BMI between each of the values of the \"sex\" field."
      ]
    },
    {
      "cell_type": "code",
      "metadata": {
        "colab": {
          "base_uri": "https://localhost:8080/",
          "height": 141
        },
        "id": "X6Ba4z2GZg8c",
        "outputId": "fd90e641-a7d1-4235-a00e-8525b5ec149d"
      },
      "source": [
        "df.groupby([\"sex\"])['bmi'].describe()"
      ],
      "execution_count": 10,
      "outputs": [
        {
          "output_type": "execute_result",
          "data": {
            "text/html": [
              "<div>\n",
              "<style scoped>\n",
              "    .dataframe tbody tr th:only-of-type {\n",
              "        vertical-align: middle;\n",
              "    }\n",
              "\n",
              "    .dataframe tbody tr th {\n",
              "        vertical-align: top;\n",
              "    }\n",
              "\n",
              "    .dataframe thead th {\n",
              "        text-align: right;\n",
              "    }\n",
              "</style>\n",
              "<table border=\"1\" class=\"dataframe\">\n",
              "  <thead>\n",
              "    <tr style=\"text-align: right;\">\n",
              "      <th></th>\n",
              "      <th>count</th>\n",
              "      <th>mean</th>\n",
              "      <th>std</th>\n",
              "      <th>min</th>\n",
              "      <th>25%</th>\n",
              "      <th>50%</th>\n",
              "      <th>75%</th>\n",
              "      <th>max</th>\n",
              "    </tr>\n",
              "    <tr>\n",
              "      <th>sex</th>\n",
              "      <th></th>\n",
              "      <th></th>\n",
              "      <th></th>\n",
              "      <th></th>\n",
              "      <th></th>\n",
              "      <th></th>\n",
              "      <th></th>\n",
              "      <th></th>\n",
              "    </tr>\n",
              "  </thead>\n",
              "  <tbody>\n",
              "    <tr>\n",
              "      <th>female</th>\n",
              "      <td>662.0</td>\n",
              "      <td>30.377749</td>\n",
              "      <td>6.046023</td>\n",
              "      <td>16.815</td>\n",
              "      <td>26.125</td>\n",
              "      <td>30.1075</td>\n",
              "      <td>34.31375</td>\n",
              "      <td>48.07</td>\n",
              "    </tr>\n",
              "    <tr>\n",
              "      <th>male</th>\n",
              "      <td>676.0</td>\n",
              "      <td>30.943129</td>\n",
              "      <td>6.140435</td>\n",
              "      <td>15.960</td>\n",
              "      <td>26.410</td>\n",
              "      <td>30.6875</td>\n",
              "      <td>34.99250</td>\n",
              "      <td>53.13</td>\n",
              "    </tr>\n",
              "  </tbody>\n",
              "</table>\n",
              "</div>"
            ],
            "text/plain": [
              "        count       mean       std     min     25%      50%       75%    max\n",
              "sex                                                                         \n",
              "female  662.0  30.377749  6.046023  16.815  26.125  30.1075  34.31375  48.07\n",
              "male    676.0  30.943129  6.140435  15.960  26.410  30.6875  34.99250  53.13"
            ]
          },
          "metadata": {},
          "execution_count": 10
        }
      ]
    },
    {
      "cell_type": "markdown",
      "metadata": {
        "id": "ilHttbiadNPK"
      },
      "source": [
        "#Boxplot\n",
        "By using the boxplot function we can compare \"resting_blood_pressure\" between the \"sex\" values."
      ]
    },
    {
      "cell_type": "code",
      "metadata": {
        "colab": {
          "base_uri": "https://localhost:8080/",
          "height": 614
        },
        "id": "rjFKd2wBZhpu",
        "outputId": "d89e9918-c5eb-4566-d0a3-34e8489a46bc"
      },
      "source": [
        "df[['sex','bmi']].boxplot(by=\"sex\",figsize=(15, 8))"
      ],
      "execution_count": 13,
      "outputs": [
        {
          "output_type": "stream",
          "name": "stderr",
          "text": [
            "/usr/local/lib/python3.7/dist-packages/numpy/core/_asarray.py:83: VisibleDeprecationWarning: Creating an ndarray from ragged nested sequences (which is a list-or-tuple of lists-or-tuples-or ndarrays with different lengths or shapes) is deprecated. If you meant to do this, you must specify 'dtype=object' when creating the ndarray\n",
            "  return array(a, dtype, copy=False, order=order)\n"
          ]
        },
        {
          "output_type": "execute_result",
          "data": {
            "text/plain": [
              "<matplotlib.axes._subplots.AxesSubplot at 0x7f940e1eb450>"
            ]
          },
          "metadata": {},
          "execution_count": 13
        },
        {
          "output_type": "display_data",
          "data": {
            "image/png": "[encoded data removed]",
            "text/plain": [
              "<Figure size 1080x576 with 1 Axes>"
            ]
          },
          "metadata": {
            "needs_background": "light"
          }
        }
      ]
    },
    {
      "cell_type": "markdown",
      "metadata": {
        "id": "2Ik6-ZbzeBDA"
      },
      "source": [
        "#Histogram"
      ]
    },
    {
      "cell_type": "code",
      "metadata": {
        "id": "42HW0dpMeBs5",
        "outputId": "1a174a37-897c-4234-968e-05d1dff74c10",
        "colab": {
          "base_uri": "https://localhost:8080/",
          "height": 482
        }
      },
      "source": [
        "ax = df['bmi'].plot.hist(figsize=(15, 8))"
      ],
      "execution_count": 12,
      "outputs": [
        {
          "output_type": "display_data",
          "data": {
            "image/png": "[encoded data removed]",
            "text/plain": [
              "<Figure size 1080x576 with 1 Axes>"
            ]
          },
          "metadata": {
            "needs_background": "light"
          }
        }
      ]
    },
    {
      "cell_type": "code",
      "metadata": {
        "id": "k-IdRxEW_3oE"
      },
      "source": [
        ""
      ],
      "execution_count": null,
      "outputs": []
    },
    {
      "cell_type": "code",
      "metadata": {
        "id": "gOowOEgYeCaA"
      },
      "source": [
        ""
      ],
      "execution_count": null,
      "outputs": []
    }
  ]
}