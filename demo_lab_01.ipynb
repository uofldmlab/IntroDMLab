{
  "nbformat": 4,
  "nbformat_minor": 0,
  "metadata": {
    "colab": {
      "name": "demo_lab_01.ipynb",
      "provenance": [],
      "authorship_tag": "ABX9TyMi89lLPpY2IJ8EKQo6QKru",
      "include_colab_link": true
    },
    "kernelspec": {
      "name": "python3",
      "display_name": "Python 3"
    },
    "language_info": {
      "name": "python"
    }
  },
  "cells": [
    {
      "cell_type": "markdown",
      "metadata": {
        "id": "view-in-github",
        "colab_type": "text"
      },
      "source": [
        "<a href=\"https://colab.research.google.com/github/uofldmlab/IntroDMLab/blob/main/demo_lab_01.ipynb\" target=\"_parent\"><img src=\"https://colab.research.google.com/assets/colab-badge.svg\" alt=\"Open In Colab\"/></a>"
      ]
    },
    {
      "cell_type": "markdown",
      "metadata": {
        "id": "J1ditK15b3Lw"
      },
      "source": [
        "# Import Python Libraries\n",
        "\n",
        "Importing Python libraries extend data-type and function capabilites that are outside the core Python language. The Pandas library is a Python library that is is widely used to open, view, manipulate, and analyze data.\n",
        "\n",
        "Click the Google Colab image at the top of the page to launch the lab in Google Colab:![screenshot-2021-09-08-9-15-39- (1).png](data:image/png;base64,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)"
      ]
    },
    {
      "cell_type": "code",
      "metadata": {
        "id": "GRn0VPvi-uNP"
      },
      "source": [
        "import pandas as pd #import pandas"
      ],
      "execution_count": 1,
      "outputs": []
    },
    {
      "cell_type": "markdown",
      "metadata": {
        "id": "szqQy7nFcBLl"
      },
      "source": [
        "# Open Data\n",
        "We will use the pandas read_csv() function to import a CSV file from a URL and store the data into a Pandas dataframe.\n"
      ]
    },
    {
      "cell_type": "code",
      "metadata": {
        "id": "c0qA3Ovm-wp8"
      },
      "source": [
        "#open datafile and store into Pandas dataframe\n",
        "df = pd.read_csv(\"https://raw.githubusercontent.com/uofldmlab/IntroDMLab/main/processed.cleveland2.csv\")"
      ],
      "execution_count": 2,
      "outputs": []
    },
    {
      "cell_type": "markdown",
      "metadata": {
        "id": "hwglUpzwFWd1"
      },
      "source": [
        "#Data Types\n",
        "The dtypes attribute of the Pandas dataframe provides the datatypes of each of the fields in the dataframe"
      ]
    },
    {
      "cell_type": "code",
      "metadata": {
        "colab": {
          "base_uri": "https://localhost:8080/"
        },
        "id": "Xs_ECCa6FZwv",
        "outputId": "cf726ab0-9609-4ca4-ea03-07807c0fff17"
      },
      "source": [
        "df.dtypes"
      ],
      "execution_count": 3,
      "outputs": [
        {
          "output_type": "execute_result",
          "data": {
            "text/plain": [
              "age                        float64\n",
              "sex                        float64\n",
              "cholesterol                float64\n",
              "resting_blood_pressure     float64\n",
              "max_heart_rate_achieved    float64\n",
              "dtype: object"
            ]
          },
          "metadata": {},
          "execution_count": 3
        }
      ]
    },
    {
      "cell_type": "markdown",
      "metadata": {
        "id": "4FlJvKWBcLmo"
      },
      "source": [
        "#Display Data\n",
        "The Pandas dataframe provides a data structure of rows and columns of the dataset we read in."
      ]
    },
    {
      "cell_type": "code",
      "metadata": {
        "colab": {
          "base_uri": "https://localhost:8080/",
          "height": 202
        },
        "id": "SuQiVREGBU_z",
        "outputId": "45504545-078c-4dfc-bb68-e54c5004f881"
      },
      "source": [
        "df.head()"
      ],
      "execution_count": 4,
      "outputs": [
        {
          "output_type": "execute_result",
          "data": {
            "text/html": [
              "<div>\n",
              "<style scoped>\n",
              "    .dataframe tbody tr th:only-of-type {\n",
              "        vertical-align: middle;\n",
              "    }\n",
              "\n",
              "    .dataframe tbody tr th {\n",
              "        vertical-align: top;\n",
              "    }\n",
              "\n",
              "    .dataframe thead th {\n",
              "        text-align: right;\n",
              "    }\n",
              "</style>\n",
              "<table border=\"1\" class=\"dataframe\">\n",
              "  <thead>\n",
              "    <tr style=\"text-align: right;\">\n",
              "      <th></th>\n",
              "      <th>age</th>\n",
              "      <th>sex</th>\n",
              "      <th>cholesterol</th>\n",
              "      <th>resting_blood_pressure</th>\n",
              "      <th>max_heart_rate_achieved</th>\n",
              "    </tr>\n",
              "  </thead>\n",
              "  <tbody>\n",
              "    <tr>\n",
              "      <th>0</th>\n",
              "      <td>67.0</td>\n",
              "      <td>1.0</td>\n",
              "      <td>286.0</td>\n",
              "      <td>160.0</td>\n",
              "      <td>108.0</td>\n",
              "    </tr>\n",
              "    <tr>\n",
              "      <th>1</th>\n",
              "      <td>67.0</td>\n",
              "      <td>1.0</td>\n",
              "      <td>229.0</td>\n",
              "      <td>120.0</td>\n",
              "      <td>129.0</td>\n",
              "    </tr>\n",
              "    <tr>\n",
              "      <th>2</th>\n",
              "      <td>37.0</td>\n",
              "      <td>1.0</td>\n",
              "      <td>250.0</td>\n",
              "      <td>130.0</td>\n",
              "      <td>187.0</td>\n",
              "    </tr>\n",
              "    <tr>\n",
              "      <th>3</th>\n",
              "      <td>41.0</td>\n",
              "      <td>0.0</td>\n",
              "      <td>204.0</td>\n",
              "      <td>130.0</td>\n",
              "      <td>172.0</td>\n",
              "    </tr>\n",
              "    <tr>\n",
              "      <th>4</th>\n",
              "      <td>56.0</td>\n",
              "      <td>1.0</td>\n",
              "      <td>236.0</td>\n",
              "      <td>120.0</td>\n",
              "      <td>178.0</td>\n",
              "    </tr>\n",
              "  </tbody>\n",
              "</table>\n",
              "</div>"
            ],
            "text/plain": [
              "    age  sex  cholesterol  resting_blood_pressure  max_heart_rate_achieved\n",
              "0  67.0  1.0        286.0                   160.0                    108.0\n",
              "1  67.0  1.0        229.0                   120.0                    129.0\n",
              "2  37.0  1.0        250.0                   130.0                    187.0\n",
              "3  41.0  0.0        204.0                   130.0                    172.0\n",
              "4  56.0  1.0        236.0                   120.0                    178.0"
            ]
          },
          "metadata": {},
          "execution_count": 4
        }
      ]
    },
    {
      "cell_type": "markdown",
      "metadata": {
        "id": "2-jOL2xIDNZp"
      },
      "source": [
        "#Dataframe Size\n",
        "The shape attribute of the Pandas dataframe provides the number of rows and columns within the dataframe."
      ]
    },
    {
      "cell_type": "code",
      "metadata": {
        "colab": {
          "base_uri": "https://localhost:8080/"
        },
        "id": "1rvsmWz5DTNn",
        "outputId": "dc2ac96c-b78e-44b3-e674-fedc86d34dda"
      },
      "source": [
        "df.shape"
      ],
      "execution_count": 5,
      "outputs": [
        {
          "output_type": "execute_result",
          "data": {
            "text/plain": [
              "(302, 5)"
            ]
          },
          "metadata": {},
          "execution_count": 5
        }
      ]
    },
    {
      "cell_type": "markdown",
      "metadata": {
        "id": "h9DXglILcW8I"
      },
      "source": [
        "#Descibe the Data\n",
        "The describe() function of the Pandas dataframe provides the numeric descriptive statistics of all of the numeric columns."
      ]
    },
    {
      "cell_type": "code",
      "metadata": {
        "colab": {
          "base_uri": "https://localhost:8080/",
          "height": 295
        },
        "id": "5Z8BKG4PZgl2",
        "outputId": "6d61cdca-0033-427a-987b-950dcd12146c"
      },
      "source": [
        "df.describe()"
      ],
      "execution_count": 6,
      "outputs": [
        {
          "output_type": "execute_result",
          "data": {
            "text/html": [
              "<div>\n",
              "<style scoped>\n",
              "    .dataframe tbody tr th:only-of-type {\n",
              "        vertical-align: middle;\n",
              "    }\n",
              "\n",
              "    .dataframe tbody tr th {\n",
              "        vertical-align: top;\n",
              "    }\n",
              "\n",
              "    .dataframe thead th {\n",
              "        text-align: right;\n",
              "    }\n",
              "</style>\n",
              "<table border=\"1\" class=\"dataframe\">\n",
              "  <thead>\n",
              "    <tr style=\"text-align: right;\">\n",
              "      <th></th>\n",
              "      <th>age</th>\n",
              "      <th>sex</th>\n",
              "      <th>cholesterol</th>\n",
              "      <th>resting_blood_pressure</th>\n",
              "      <th>max_heart_rate_achieved</th>\n",
              "    </tr>\n",
              "  </thead>\n",
              "  <tbody>\n",
              "    <tr>\n",
              "      <th>count</th>\n",
              "      <td>302.000000</td>\n",
              "      <td>302.000000</td>\n",
              "      <td>302.000000</td>\n",
              "      <td>302.000000</td>\n",
              "      <td>302.000000</td>\n",
              "    </tr>\n",
              "    <tr>\n",
              "      <th>mean</th>\n",
              "      <td>54.410596</td>\n",
              "      <td>0.678808</td>\n",
              "      <td>246.738411</td>\n",
              "      <td>131.645695</td>\n",
              "      <td>149.605960</td>\n",
              "    </tr>\n",
              "    <tr>\n",
              "      <th>std</th>\n",
              "      <td>9.040163</td>\n",
              "      <td>0.467709</td>\n",
              "      <td>51.856829</td>\n",
              "      <td>17.612202</td>\n",
              "      <td>22.912959</td>\n",
              "    </tr>\n",
              "    <tr>\n",
              "      <th>min</th>\n",
              "      <td>29.000000</td>\n",
              "      <td>0.000000</td>\n",
              "      <td>126.000000</td>\n",
              "      <td>94.000000</td>\n",
              "      <td>71.000000</td>\n",
              "    </tr>\n",
              "    <tr>\n",
              "      <th>25%</th>\n",
              "      <td>48.000000</td>\n",
              "      <td>0.000000</td>\n",
              "      <td>211.000000</td>\n",
              "      <td>120.000000</td>\n",
              "      <td>133.250000</td>\n",
              "    </tr>\n",
              "    <tr>\n",
              "      <th>50%</th>\n",
              "      <td>55.500000</td>\n",
              "      <td>1.000000</td>\n",
              "      <td>241.500000</td>\n",
              "      <td>130.000000</td>\n",
              "      <td>153.000000</td>\n",
              "    </tr>\n",
              "    <tr>\n",
              "      <th>75%</th>\n",
              "      <td>61.000000</td>\n",
              "      <td>1.000000</td>\n",
              "      <td>275.000000</td>\n",
              "      <td>140.000000</td>\n",
              "      <td>166.000000</td>\n",
              "    </tr>\n",
              "    <tr>\n",
              "      <th>max</th>\n",
              "      <td>77.000000</td>\n",
              "      <td>1.000000</td>\n",
              "      <td>564.000000</td>\n",
              "      <td>200.000000</td>\n",
              "      <td>202.000000</td>\n",
              "    </tr>\n",
              "  </tbody>\n",
              "</table>\n",
              "</div>"
            ],
            "text/plain": [
              "              age         sex  ...  resting_blood_pressure  max_heart_rate_achieved\n",
              "count  302.000000  302.000000  ...              302.000000               302.000000\n",
              "mean    54.410596    0.678808  ...              131.645695               149.605960\n",
              "std      9.040163    0.467709  ...               17.612202                22.912959\n",
              "min     29.000000    0.000000  ...               94.000000                71.000000\n",
              "25%     48.000000    0.000000  ...              120.000000               133.250000\n",
              "50%     55.500000    1.000000  ...              130.000000               153.000000\n",
              "75%     61.000000    1.000000  ...              140.000000               166.000000\n",
              "max     77.000000    1.000000  ...              200.000000               202.000000\n",
              "\n",
              "[8 rows x 5 columns]"
            ]
          },
          "metadata": {},
          "execution_count": 6
        }
      ]
    },
    {
      "cell_type": "markdown",
      "metadata": {
        "id": "N0OSOnmEcppG"
      },
      "source": [
        "#Descibe the Data (with groupby)\n",
        "By using the groupby() function on the dataframe we can compare the descriptive statistics of between each of the values of the \"sex\" field."
      ]
    },
    {
      "cell_type": "code",
      "metadata": {
        "colab": {
          "base_uri": "https://localhost:8080/",
          "height": 141
        },
        "id": "X6Ba4z2GZg8c",
        "outputId": "8acc7086-b17e-42fc-f5c2-be624ff6b311"
      },
      "source": [
        "df.groupby([\"sex\"])['resting_blood_pressure'].describe()"
      ],
      "execution_count": 7,
      "outputs": [
        {
          "output_type": "execute_result",
          "data": {
            "text/html": [
              "<div>\n",
              "<style scoped>\n",
              "    .dataframe tbody tr th:only-of-type {\n",
              "        vertical-align: middle;\n",
              "    }\n",
              "\n",
              "    .dataframe tbody tr th {\n",
              "        vertical-align: top;\n",
              "    }\n",
              "\n",
              "    .dataframe thead th {\n",
              "        text-align: right;\n",
              "    }\n",
              "</style>\n",
              "<table border=\"1\" class=\"dataframe\">\n",
              "  <thead>\n",
              "    <tr style=\"text-align: right;\">\n",
              "      <th></th>\n",
              "      <th>count</th>\n",
              "      <th>mean</th>\n",
              "      <th>std</th>\n",
              "      <th>min</th>\n",
              "      <th>25%</th>\n",
              "      <th>50%</th>\n",
              "      <th>75%</th>\n",
              "      <th>max</th>\n",
              "    </tr>\n",
              "    <tr>\n",
              "      <th>sex</th>\n",
              "      <th></th>\n",
              "      <th></th>\n",
              "      <th></th>\n",
              "      <th></th>\n",
              "      <th></th>\n",
              "      <th></th>\n",
              "      <th></th>\n",
              "      <th></th>\n",
              "    </tr>\n",
              "  </thead>\n",
              "  <tbody>\n",
              "    <tr>\n",
              "      <th>0.0</th>\n",
              "      <td>97.0</td>\n",
              "      <td>133.340206</td>\n",
              "      <td>19.376149</td>\n",
              "      <td>94.0</td>\n",
              "      <td>120.0</td>\n",
              "      <td>132.0</td>\n",
              "      <td>140.0</td>\n",
              "      <td>200.0</td>\n",
              "    </tr>\n",
              "    <tr>\n",
              "      <th>1.0</th>\n",
              "      <td>205.0</td>\n",
              "      <td>130.843902</td>\n",
              "      <td>16.703147</td>\n",
              "      <td>94.0</td>\n",
              "      <td>120.0</td>\n",
              "      <td>130.0</td>\n",
              "      <td>140.0</td>\n",
              "      <td>192.0</td>\n",
              "    </tr>\n",
              "  </tbody>\n",
              "</table>\n",
              "</div>"
            ],
            "text/plain": [
              "     count        mean        std   min    25%    50%    75%    max\n",
              "sex                                                                \n",
              "0.0   97.0  133.340206  19.376149  94.0  120.0  132.0  140.0  200.0\n",
              "1.0  205.0  130.843902  16.703147  94.0  120.0  130.0  140.0  192.0"
            ]
          },
          "metadata": {},
          "execution_count": 7
        }
      ]
    },
    {
      "cell_type": "markdown",
      "metadata": {
        "id": "ilHttbiadNPK"
      },
      "source": [
        "#Boxplot\n",
        "By using the boxplot function we can compare \"resting_blood_pressure\" between the \"sex\" values."
      ]
    },
    {
      "cell_type": "code",
      "metadata": {
        "colab": {
          "base_uri": "https://localhost:8080/",
          "height": 732
        },
        "id": "rjFKd2wBZhpu",
        "outputId": "8a6523bd-2240-438c-fc05-7b5913dfad6a"
      },
      "source": [
        "df[['sex','resting_blood_pressure']].boxplot(by=\"sex\",figsize=(20, 10))"
      ],
      "execution_count": 8,
      "outputs": [
        {
          "output_type": "stream",
          "name": "stderr",
          "text": [
            "/usr/local/lib/python3.7/dist-packages/numpy/core/_asarray.py:83: VisibleDeprecationWarning: Creating an ndarray from ragged nested sequences (which is a list-or-tuple of lists-or-tuples-or ndarrays with different lengths or shapes) is deprecated. If you meant to do this, you must specify 'dtype=object' when creating the ndarray\n",
            "  return array(a, dtype, copy=False, order=order)\n"
          ]
        },
        {
          "output_type": "execute_result",
          "data": {
            "text/plain": [
              "<matplotlib.axes._subplots.AxesSubplot at 0x7f5d083c89d0>"
            ]
          },
          "metadata": {},
          "execution_count": 8
        },
        {
          "output_type": "display_data",
          "data": {
            "image/png": "[encoded data removed]",
            "text/plain": [
              "<Figure size 1440x720 with 1 Axes>"
            ]
          },
          "metadata": {
            "needs_background": "light"
          }
        }
      ]
    },
    {
      "cell_type": "markdown",
      "metadata": {
        "id": "Sc_pZQydeEHM"
      },
      "source": [
        "#Lab\n",
        "In the cells provided below, explore the relationship between age and max_heart_rate_achieved by using the describe() and boxplot() functions:"
      ]
    },
    {
      "cell_type": "code",
      "metadata": {
        "id": "k-IdRxEW_3oE"
      },
      "source": [
        ""
      ],
      "execution_count": 8,
      "outputs": []
    },
    {
      "cell_type": "code",
      "metadata": {
        "id": "42HW0dpMeBs5"
      },
      "source": [
        ""
      ],
      "execution_count": 8,
      "outputs": []
    },
    {
      "cell_type": "code",
      "metadata": {
        "id": "gOowOEgYeCaA"
      },
      "source": [
        ""
      ],
      "execution_count": 8,
      "outputs": []
    }
  ]
}