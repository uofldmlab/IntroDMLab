{
  "nbformat": 4,
  "nbformat_minor": 0,
  "metadata": {
    "colab": {
      "name": "demo_lab_01.ipynb",
      "provenance": [],
      "authorship_tag": "ABX9TyMTxmsJwWbrAmJXXeaHh0e8",
      "include_colab_link": true
    },
    "kernelspec": {
      "name": "python3",
      "display_name": "Python 3"
    },
    "language_info": {
      "name": "python"
    }
  },
  "cells": [
    {
      "cell_type": "markdown",
      "metadata": {
        "id": "view-in-github",
        "colab_type": "text"
      },
      "source": [
        "<a href=\"https://colab.research.google.com/github/uofldmlab/IntroDMLab/blob/main/demo_lab_01.ipynb\" target=\"_parent\"><img src=\"https://colab.research.google.com/assets/colab-badge.svg\" alt=\"Open In Colab\"/></a>"
      ]
    },
    {
      "cell_type": "markdown",
      "metadata": {
        "id": "J1ditK15b3Lw"
      },
      "source": [
        "*Click the Google Colab image at the top of the page to launch the lab in Google Colab:*![screenshot-2021-09-08-9-15-39- (1).png](data:image/png;base64,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)\n",
        "\n",
        "The following link provides a brief tutorial on how to use Google Colab: [https://www.youtube.com/watch?v=inN8seMm7UI&ab_channel=TensorFlow](https://www.youtube.com/watch?v=inN8seMm7UI&ab_channel=TensorFlow)"
      ]
    },
    {
      "cell_type": "markdown",
      "metadata": {
        "id": "rfqvmlXSbGdh"
      },
      "source": [
        "#Lab #01: Exploring Data"
      ]
    },
    {
      "cell_type": "markdown",
      "metadata": {
        "id": "zbED-_GATAYA"
      },
      "source": [
        "# Import Python Libraries\n",
        "\n",
        "Importing Python libraries extend data-type and function capabilities that are outside the core Python language. The Pandas library is a Python library that is widely used to open, view, manipulate, and analyze data."
      ]
    },
    {
      "cell_type": "code",
      "metadata": {
        "id": "GRn0VPvi-uNP"
      },
      "source": [
        "import pandas as pd #import pandas"
      ],
      "execution_count": 1,
      "outputs": []
    },
    {
      "cell_type": "markdown",
      "metadata": {
        "id": "szqQy7nFcBLl"
      },
      "source": [
        "# Open Data\n",
        "We will use the pandas read_csv() function to import a CSV file from a URL and store the data into a Pandas dataframe.\n",
        "\n",
        "In this case we are reading a comma delimited text file (.csv) from: https://raw.githubusercontent.com/uofldmlab/IntroDMLab/main/insurance.csv\n",
        "\n",
        "This particular text file contains data related to medical charges. The dataset contains 7 different variables; 6 independent (age, BMI, sex, smoker, children, region); 1 dependent (charges).\n"
      ]
    },
    {
      "cell_type": "code",
      "metadata": {
        "id": "c0qA3Ovm-wp8"
      },
      "source": [
        "#open datafile and store into Pandas dataframe\n",
        "df = pd.read_csv(\"https://raw.githubusercontent.com/uofldmlab/IntroDMLab/main/insurance.csv\")"
      ],
      "execution_count": 13,
      "outputs": []
    },
    {
      "cell_type": "markdown",
      "metadata": {
        "id": "hwglUpzwFWd1"
      },
      "source": [
        "#Data Types\n",
        "The dtypes attribute of the Pandas dataframe provides the datatypes of each of the fields in the dataframe.  In this example both *int64* and *float64* represent numeric data, while *object* represents non-numeric (string/categorical)"
      ]
    },
    {
      "cell_type": "code",
      "metadata": {
        "id": "Xs_ECCa6FZwv"
      },
      "source": [
        "df.dtypes"
      ],
      "execution_count": null,
      "outputs": []
    },
    {
      "cell_type": "markdown",
      "metadata": {
        "id": "4FlJvKWBcLmo"
      },
      "source": [
        "#Display Data\n",
        "The Pandas dataframe provides a data structure of rows and columns of the dataset we read in. The *head()* function is used to display the first few rows of the dataframe."
      ]
    },
    {
      "cell_type": "code",
      "metadata": {
        "id": "SuQiVREGBU_z"
      },
      "source": [
        "df.head()"
      ],
      "execution_count": null,
      "outputs": []
    },
    {
      "cell_type": "markdown",
      "metadata": {
        "id": "2plImd0OcLFs"
      },
      "source": [
        "By default the *head()* function will display the 5 rows of the dataframe, but additional rows can be displayed by supplying the desired number of rows as a parameter."
      ]
    },
    {
      "cell_type": "code",
      "metadata": {
        "id": "dVenq0O8cL1B"
      },
      "source": [
        "df.head(10)"
      ],
      "execution_count": null,
      "outputs": []
    },
    {
      "cell_type": "markdown",
      "metadata": {
        "id": "72QhiMsVcPpo"
      },
      "source": [
        "Only desired columns can be displayed by supplying column names."
      ]
    },
    {
      "cell_type": "code",
      "metadata": {
        "id": "qROkoFBecQba"
      },
      "source": [
        "df[['age','bmi']].head()"
      ],
      "execution_count": null,
      "outputs": []
    },
    {
      "cell_type": "markdown",
      "metadata": {
        "id": "2-jOL2xIDNZp"
      },
      "source": [
        "#Dataframe Size\n",
        "The *shape*  of the Pandas dataframe provides the number of records and the number of columns in the form of (rows, columns)."
      ]
    },
    {
      "cell_type": "code",
      "metadata": {
        "id": "1rvsmWz5DTNn"
      },
      "source": [
        "df.shape"
      ],
      "execution_count": null,
      "outputs": []
    },
    {
      "cell_type": "markdown",
      "metadata": {
        "id": "qRfk7AkEcgUj"
      },
      "source": [
        "#Filtering Data\n",
        "\n",
        "Select rows can be filtered.  For instance is we only wanted to display only the rows where the sex=='male'. "
      ]
    },
    {
      "cell_type": "code",
      "metadata": {
        "id": "4WzD2Qhfcg1T"
      },
      "source": [
        "df[df['sex']=='male']"
      ],
      "execution_count": null,
      "outputs": []
    },
    {
      "cell_type": "markdown",
      "metadata": {
        "id": "P_A7pHdLdG-_"
      },
      "source": [
        "The following shows how to display records where the charges were less than $2,000. Standard boolean operators can be used here (==, !=, <=, >=, <, >)"
      ]
    },
    {
      "cell_type": "code",
      "metadata": {
        "id": "-U6rfy6kcp89"
      },
      "source": [
        "df[df['charges']<2000]"
      ],
      "execution_count": null,
      "outputs": []
    },
    {
      "cell_type": "markdown",
      "metadata": {
        "id": "v75w0LaadaRa"
      },
      "source": [
        "We can also use the AND (&) and OR (|) operators to filter on multiple conditions.  For instance if we want to know how many men are younger than 19 in the dataset:"
      ]
    },
    {
      "cell_type": "code",
      "metadata": {
        "id": "jb6xqSWAc4h2"
      },
      "source": [
        "len(df[(df['sex']=='male')&(df['age']<19)])"
      ],
      "execution_count": null,
      "outputs": []
    },
    {
      "cell_type": "markdown",
      "metadata": {
        "id": "m6uz_Jqkz_p8"
      },
      "source": [
        "Note the use of the *len()* function to obtain the number of rows in the result of the filtered dataframe."
      ]
    },
    {
      "cell_type": "markdown",
      "metadata": {
        "id": "h9DXglILcW8I"
      },
      "source": [
        "#Describe the Data\n",
        "The describe() function of the Pandas dataframe provides the numeric descriptive statistics of all of the numeric columns.\n",
        "\n",
        "Below is a description of the output:\n",
        "\n",
        "count - Count number of non-NA/null observations.\n",
        "\n",
        "mean - Mean of the values.\n",
        "\n",
        "std - Standard deviation of the observations.\n",
        "\n",
        "min - Minimum of the values in the object.\n",
        "\n",
        "25% - lower 25 percentile\n",
        "\n",
        "50% - 50th percentile (median)\n",
        "\n",
        "75% - upper 75th percentile \n",
        "\n",
        "max - Maximum of the values in the object."
      ]
    },
    {
      "cell_type": "code",
      "metadata": {
        "id": "5Z8BKG4PZgl2"
      },
      "source": [
        "df.describe()"
      ],
      "execution_count": null,
      "outputs": []
    },
    {
      "cell_type": "markdown",
      "metadata": {
        "id": "N0OSOnmEcppG"
      },
      "source": [
        "#Describe the Data (with groupby)\n",
        "By using the groupby() function on the dataframe we can compare the descriptive statistics of BMI between each of the values of the \"sex\" field."
      ]
    },
    {
      "cell_type": "code",
      "metadata": {
        "id": "X6Ba4z2GZg8c"
      },
      "source": [
        "df.groupby([\"sex\"])['charges'].describe()"
      ],
      "execution_count": null,
      "outputs": []
    },
    {
      "cell_type": "markdown",
      "metadata": {
        "id": "ilHttbiadNPK"
      },
      "source": [
        "#Boxplot\n",
        "By using the boxplot function we can compare \"resting_blood_pressure\" between the \"sex\" values.  This graph provides the ability to examine and compare means and interquartile range between the groups.  Additionally, we can find the outliers in the data by looking for the circles on the plot. "
      ]
    },
    {
      "cell_type": "code",
      "metadata": {
        "id": "rjFKd2wBZhpu"
      },
      "source": [
        "df[['sex','bmi']].boxplot(by=\"sex\",figsize=(15, 8))"
      ],
      "execution_count": null,
      "outputs": []
    },
    {
      "cell_type": "markdown",
      "metadata": {
        "id": "2Ik6-ZbzeBDA"
      },
      "source": [
        "#Histogram\n",
        "\n",
        "The histogram plot displays the distribution of a given variable.  "
      ]
    },
    {
      "cell_type": "code",
      "metadata": {
        "id": "42HW0dpMeBs5"
      },
      "source": [
        "ax = df['bmi'].plot.hist(figsize=(15, 8))"
      ],
      "execution_count": null,
      "outputs": []
    },
    {
      "cell_type": "markdown",
      "metadata": {
        "id": "ZPGmPXza4Cws"
      },
      "source": [
        "#Lab Task #1: Filtering data"
      ]
    },
    {
      "cell_type": "markdown",
      "metadata": {
        "id": "9FplrTcG4HUA"
      },
      "source": [
        "Q1. How many female smokers are in the dataset?"
      ]
    },
    {
      "cell_type": "code",
      "metadata": {
        "id": "gOowOEgYeCaA"
      },
      "source": [
        ""
      ],
      "execution_count": 41,
      "outputs": []
    },
    {
      "cell_type": "markdown",
      "metadata": {
        "id": "9QHWCcPw4Ypw"
      },
      "source": [
        "#Lab Task #2: Descriptive Statistics\n",
        "Q2. What are the mean and standard deviation of BMI for smokers and non-smokers?"
      ]
    },
    {
      "cell_type": "code",
      "metadata": {
        "id": "jB8v6ktl4VL3"
      },
      "source": [
        ""
      ],
      "execution_count": 41,
      "outputs": []
    },
    {
      "cell_type": "markdown",
      "metadata": {
        "id": "nPnoGSAG5ZIm"
      },
      "source": [
        "#Lab Task #3: Box Plot\n",
        "Compare BMI of smokers vs. non-smokers using a box plot.\n",
        "\n"
      ]
    },
    {
      "cell_type": "code",
      "metadata": {
        "id": "Rb1nsBAu4iOG"
      },
      "source": [
        ""
      ],
      "execution_count": 41,
      "outputs": []
    },
    {
      "cell_type": "markdown",
      "metadata": {
        "id": "-mIaTYVS1wky"
      },
      "source": [
        "Q3. How many BMI outliers exist in smokers vs non-smokers?"
      ]
    },
    {
      "cell_type": "code",
      "metadata": {
        "id": "5OV5I3xt1zk3"
      },
      "source": [
        ""
      ],
      "execution_count": null,
      "outputs": []
    },
    {
      "cell_type": "markdown",
      "metadata": {
        "id": "j8UJwjrx11v0"
      },
      "source": [
        "**Email your responses to Questions #1-#3 to your instructor.**"
      ]
    }
  ]
}